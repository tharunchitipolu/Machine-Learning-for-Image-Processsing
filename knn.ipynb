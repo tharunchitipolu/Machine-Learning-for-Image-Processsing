{
  "nbformat": 4,
  "nbformat_minor": 0,
  "metadata": {
    "colab": {
      "name": "knn.ipynb",
      "provenance": []
    },
    "kernelspec": {
      "name": "python3",
      "display_name": "Python 3"
    }
  },
  "cells": [
    {
      "cell_type": "code",
      "metadata": {
        "colab": {
          "base_uri": "https://localhost:8080/"
        },
        "id": "GVI9FzN1EKoJ",
        "outputId": "5c7702af-e90e-44ba-e5a6-ab8947a877f2"
      },
      "source": [
        "from google.colab import drive\r\n",
        "drive.mount('/content/drive')"
      ],
      "execution_count": 45,
      "outputs": [
        {
          "output_type": "stream",
          "text": [
            "Drive already mounted at /content/drive; to attempt to forcibly remount, call drive.mount(\"/content/drive\", force_remount=True).\n"
          ],
          "name": "stdout"
        }
      ]
    },
    {
      "cell_type": "markdown",
      "metadata": {
        "id": "UuY5Eb94O6zj"
      },
      "source": [
        "# K-NN Classification"
      ]
    },
    {
      "cell_type": "code",
      "metadata": {
        "id": "QmLMPrymFaLF"
      },
      "source": [
        "\r\n",
        "import cv2\r\n",
        "import statistics\r\n",
        "import pandas as pd\r\n",
        "import numpy as np\r\n",
        "from numpy import pi\r\n",
        "import matplotlib.pyplot as plt\r\n",
        "from math import sqrt\r\n",
        "from scipy.io import loadmat\r\n",
        "from scipy.stats import mode\r\n",
        "from sklearn.model_selection import train_test_split\r\n",
        "from sklearn.metrics import accuracy_score\r\n"
      ],
      "execution_count": 46,
      "outputs": []
    },
    {
      "cell_type": "code",
      "metadata": {
        "id": "0SZbpFXCHoST"
      },
      "source": [
        "A=loadmat('/content/drive/MyDrive/PA_1/CIFAR10_Train.mat')\r\n",
        "B=loadmat('/content/drive/MyDrive/PA_1/CIFAR10_Test.mat')\r\n",
        "\r\n",
        "\r\n",
        "X_train=A['CIFAR10_Train_Data']\r\n",
        "Y_train=A['CIFAR10_Train_Labels']\r\n",
        "X_test=B['CIFAR10_Test_Data']\r\n",
        "Y_test=B['CIFAR10_Test_Labels']\r\n",
        "\r\n",
        "\r\n",
        "train_Red = np.zeros(1024)\r\n",
        "train_Green = np.zeros(1024)\r\n",
        "train_Blue = np.zeros(1024)\r\n",
        "\r\n",
        "\r\n",
        "test_Red = np.zeros(1024)\r\n",
        "test_Green = np.zeros(1024)\r\n",
        "test_Blue = np.zeros(1024)"
      ],
      "execution_count": 56,
      "outputs": []
    },
    {
      "cell_type": "code",
      "metadata": {
        "id": "x8zY_CcjGNNe"
      },
      "source": [
        "train_image = np.zeros((X_train.shape[0],32,32,3))\r\n",
        "for i in range(0,X_train.shape[0]):\r\n",
        "    d = X_train[i]\r\n",
        "    red = d[:1024]\r\n",
        "    green = d[1024:2*1024]\r\n",
        "    blue = d[2*1024:]\r\n",
        "    for j in range(0,32):\r\n",
        "        train_image[i,j,:,0] = red[32*j:32*(j+1)]\r\n",
        "        train_image[i,j,:,1] = green[32*j:32*(j+1)]\r\n",
        "        train_image[i,j,:,2] = blue[32*j:32*(j+1)]\r\n"
      ],
      "execution_count": 57,
      "outputs": []
    },
    {
      "cell_type": "code",
      "metadata": {
        "id": "ZQgLnvH1L3-_"
      },
      "source": [
        "test_image = np.zeros((X_test.shape[0],32,32,3))\r\n",
        "for i in range(0,X_test.shape[0]):\r\n",
        "    d = X_test[i]\r\n",
        "    red = d[:1024]\r\n",
        "    green = d[1024:2*1024]\r\n",
        "    blue = d[2*1024:]\r\n",
        "    for j in range(0,32):\r\n",
        "        test_image[i,j,:,0] = red[32*j:32*(j+1)]\r\n",
        "        test_image[i,j,:,1] = green[32*j:32*(j+1)]\r\n",
        "        test_image[i,j,:,2] = blue[32*j:32*(j+1)]\r\n"
      ],
      "execution_count": 58,
      "outputs": []
    },
    {
      "cell_type": "code",
      "metadata": {
        "id": "dI4Pzu-vL-Py"
      },
      "source": [
        " def histogram(f):\r\n",
        "    f = f.astype('uint8')\r\n",
        "    histr = cv2.calcHist([f[:,:,0]],[0],None,[256],[0,256])\r\n",
        "    histg = cv2.calcHist([f[:,:,1]],[0],None,[256],[0,256])\r\n",
        "    histb = cv2.calcHist([f[:,:,2]],[0],None,[256],[0,256])\r\n",
        "    hist = np.zeros((256*3,1))\r\n",
        "    hist[:256] = histr\r\n",
        "    hist[256:512] = histg\r\n",
        "    hist[512:] = histb\r\n",
        "    hist = hist.T\r\n",
        "    return hist"
      ],
      "execution_count": 59,
      "outputs": []
    },
    {
      "cell_type": "code",
      "metadata": {
        "id": "rvWHXoaGMDZ8"
      },
      "source": [
        "def feature_extraction(x_train,x_test):\r\n",
        "    x = np.zeros((x_train.shape[0],256*3))\r\n",
        "    x_t = np.zeros((x_test.shape[0],256*3))\r\n",
        "    for i in range(0,x_train.shape[0]):\r\n",
        "        x[i,:] = histogram(x_train[i,:,:,:])\r\n",
        "    for j in range(0,x_test.shape[0]):\r\n",
        "        x_t[j,:] = histogram(x_test[j,:,:,:])\r\n",
        "    return x,x_t\r\n"
      ],
      "execution_count": 61,
      "outputs": []
    },
    {
      "cell_type": "code",
      "metadata": {
        "id": "otF3UpyEMIqY"
      },
      "source": [
        "from sklearn.neighbors import KNeighborsClassifier\r\n",
        "\r\n",
        "Accuracy=[]\r\n",
        "k=[1,3,5,9,11]\r\n",
        "hist_X_train,hist_X_test = feature_extraction(train_image,test_image)\r\n",
        "for i in k:\r\n",
        "    model = KNeighborsClassifier(n_neighbors=i)\r\n",
        "    model.fit( hist_X_train, Y_train )\r\n",
        "    Y_pred = model.predict(hist_X_test)\r\n",
        "    Y_pred=np.reshape(Y_pred,(500,1))\r\n",
        "    acc = accuracy_score(Y_test, Y_pred, normalize=True, sample_weight=None)\r\n",
        "    Accuracy.append(acc)\r\n",
        "\r\n"
      ],
      "execution_count": null,
      "outputs": []
    },
    {
      "cell_type": "code",
      "metadata": {
        "colab": {
          "base_uri": "https://localhost:8080/",
          "height": 298
        },
        "id": "X2vDbsBqNsJU",
        "outputId": "59e4872c-771e-404f-ba5a-b2841148dabc"
      },
      "source": [
        "print(Accuracy)\r\n",
        "plt.plot(k,Accuracy)\r\n",
        "plt.title('Accuracy vs K')\r\n",
        "plt.show()"
      ],
      "execution_count": 64,
      "outputs": [
        {
          "output_type": "stream",
          "text": [
            "[0.224, 0.268, 0.24, 0.226, 0.252]\n"
          ],
          "name": "stdout"
        },
        {
          "output_type": "display_data",
          "data": {
            "image/png": "[encoded data removed]",
            "text/plain": [
              "<Figure size 432x288 with 1 Axes>"
            ]
          },
          "metadata": {
            "tags": [],
            "needs_background": "light"
          }
        }
      ]
    },
    {
      "cell_type": "code",
      "metadata": {
        "id": "NOn5-Io5OCDU"
      },
      "source": [
        "\r\n",
        "class K_Nearest_Neighbors_Regressor_NCC() :\r\n",
        "      def __init__( self, K ) :\r\n",
        "          self.K = K\r\n",
        "      def fit( self, X_train, Y_train ) :\r\n",
        "          self.X_train = X_train\r\n",
        "          self.Y_train = Y_train\r\n",
        "          self.m, self.n = X_train.shape\r\n",
        "      def predict( self, X_test ) :\r\n",
        "          self.X_test = X_test\r\n",
        "          self.m_test, self.n = X_test.shape\r\n",
        "          Y_predict = []\r\n",
        "          for i in range( self.m_test ) :\r\n",
        "              x = self.X_test[i]\r\n",
        "              neighbors = np.zeros( self.K )\r\n",
        "              neighbors = self.find_neighbors( x )\r\n",
        "              neighbours=[]\r\n",
        "              for z in range(self.K):\r\n",
        "                  neighbours.append(neighbors[z][0])\r\n",
        "              unique, counts = np.unique(neighbors, return_counts=True)\r\n",
        "              mode = unique[np.argmax(counts)]\r\n",
        "              Y_predict.append(mode)\r\n",
        " \r\n",
        "          return Y_predict\r\n",
        "      def find_neighbors( self, x ) :\r\n",
        "          NCC_distances = np.zeros( self.m )\r\n",
        "          for i in range( self.m ) :\r\n",
        "              d = self.NCC( x, self.X_train[i] )\r\n",
        "              NCC_distances[i] = d\r\n",
        "          inds = NCC_distances.argsort()\r\n",
        "          Y_train_sorted = self.Y_train[inds]\r\n",
        "          return Y_train_sorted[0:self.K]\r\n",
        "      def NCC( self, x, x_train ) :\r\n",
        "          return 1 - np.correlate(x, x_train)/np.sqrt(np.correlate(x_train,x_train)*np.correlate(x,x))\r\n"
      ],
      "execution_count": 113,
      "outputs": []
    },
    {
      "cell_type": "code",
      "metadata": {
        "colab": {
          "base_uri": "https://localhost:8080/",
          "height": 365
        },
        "id": "4JXUsT6ERkBA",
        "outputId": "cdf76971-99fd-4777-f62e-640eec681cdc"
      },
      "source": [
        "Accuracy=[]\r\n",
        "k=[1,3,5,9,11]\r\n",
        "hist_X_train,hist_X_test = feature_extraction(train_image,test_image)\r\n",
        "X_NCC = (hist_X_train-np.mean(hist_X_train)/(np.std(hist_X_train)))\r\n",
        "X_test_NCC = (hist_X_test-np.mean(hist_X_test)/(np.std(hist_X_test)))\r\n",
        "\r\n",
        "for i in k:\r\n",
        "    model = K_Nearest_Neighbors_Regressor_NCC( K = i )\r\n",
        "    model.fit( X_NCC, Y_train )\r\n",
        "    Y_pred = model.predict(X_test_NCC)\r\n",
        "    Y_pred=np.reshape(Y_pred,(500,1))\r\n",
        "    acc = accuracy_score(Y_test, Y_pred, normalize=True, sample_weight=None)\r\n",
        "    print('Accuracy with k=',i,'is',acc)\r\n",
        "    Accuracy.append(acc)\r\n",
        "plt.plot(k,Accuracy)\r\n",
        "plt.title('Accuracy vs K')\r\n",
        "plt.show()\r\n"
      ],
      "execution_count": 115,
      "outputs": [
        {
          "output_type": "stream",
          "text": [
            "Accuracy with k= 1 is 0.236\n",
            "Accuracy with k= 3 is 0.26\n",
            "Accuracy with k= 5 is 0.232\n",
            "Accuracy with k= 9 is 0.236\n",
            "Accuracy with k= 11 is 0.224\n"
          ],
          "name": "stdout"
        },
        {
          "output_type": "display_data",
          "data": {
            "image/png": "[encoded data removed]",
            "text/plain": [
              "<Figure size 432x288 with 1 Axes>"
            ]
          },
          "metadata": {
            "tags": [],
            "needs_background": "light"
          }
        }
      ]
    }
  ]
}