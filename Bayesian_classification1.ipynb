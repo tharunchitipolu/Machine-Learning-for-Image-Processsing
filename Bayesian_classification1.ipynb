{
  "nbformat": 4,
  "nbformat_minor": 0,
  "metadata": {
    "colab": {
      "name": "Bayesian_classification1.ipynb",
      "provenance": [],
      "collapsed_sections": []
    },
    "kernelspec": {
      "name": "python3",
      "display_name": "Python 3"
    }
  },
  "cells": [
    {
      "cell_type": "code",
      "metadata": {
        "id": "JKNCt4KG14xf",
        "colab": {
          "base_uri": "https://localhost:8080/"
        },
        "outputId": "db0b0cd2-c7d9-48b4-a838-137778f1781e"
      },
      "source": [
        "from google.colab import drive\r\n",
        "drive.mount('/content/drive')\r\n"
      ],
      "execution_count": 83,
      "outputs": [
        {
          "output_type": "stream",
          "text": [
            "Drive already mounted at /content/drive; to attempt to forcibly remount, call drive.mount(\"/content/drive\", force_remount=True).\n"
          ],
          "name": "stdout"
        }
      ]
    },
    {
      "cell_type": "code",
      "metadata": {
        "id": "t3aVrnF7C3C_"
      },
      "source": [
        "import pandas as pd\r\n",
        "import matplotlib.pyplot as plt\r\n",
        "import numpy as np"
      ],
      "execution_count": 84,
      "outputs": []
    },
    {
      "cell_type": "code",
      "metadata": {
        "id": "YumK4TrjDBBJ"
      },
      "source": [
        "df = pd.read_excel('/content/drive/MyDrive/PA_1/Iris Dataset 3/irisdata.xlsx', header=None)"
      ],
      "execution_count": 85,
      "outputs": []
    },
    {
      "cell_type": "markdown",
      "metadata": {
        "id": "P-igW98R8KQG"
      },
      "source": [
        "## Iris dataset"
      ]
    },
    {
      "cell_type": "code",
      "metadata": {
        "id": "gIM1YMtUFVas",
        "colab": {
          "base_uri": "https://localhost:8080/"
        },
        "outputId": "f3d6b8b7-2897-49f6-cf06-3757c44d9d64"
      },
      "source": [
        "df.shape"
      ],
      "execution_count": 86,
      "outputs": [
        {
          "output_type": "execute_result",
          "data": {
            "text/plain": [
              "(150, 5)"
            ]
          },
          "metadata": {
            "tags": []
          },
          "execution_count": 86
        }
      ]
    },
    {
      "cell_type": "code",
      "metadata": {
        "id": "gI0BGrFoFW0e",
        "colab": {
          "base_uri": "https://localhost:8080/"
        },
        "outputId": "0ae28528-a70b-4dc7-ffc1-098965eb9fa5"
      },
      "source": [
        "df.head"
      ],
      "execution_count": 87,
      "outputs": [
        {
          "output_type": "execute_result",
          "data": {
            "text/plain": [
              "<bound method NDFrame.head of        0    1    2    3               4\n",
              "0    5.1  3.5  1.4  0.2     Iris-setosa\n",
              "1    4.9  3.0  1.4  0.2     Iris-setosa\n",
              "2    4.7  3.2  1.3  0.2     Iris-setosa\n",
              "3    4.6  3.1  1.5  0.2     Iris-setosa\n",
              "4    5.0  3.6  1.4  0.2     Iris-setosa\n",
              "..   ...  ...  ...  ...             ...\n",
              "145  6.7  3.0  5.2  2.3  Iris-virginica\n",
              "146  6.3  2.5  5.0  1.9  Iris-virginica\n",
              "147  6.5  3.0  5.2  2.0  Iris-virginica\n",
              "148  6.2  3.4  5.4  2.3  Iris-virginica\n",
              "149  5.9  3.0  5.1  1.8  Iris-virginica\n",
              "\n",
              "[150 rows x 5 columns]>"
            ]
          },
          "metadata": {
            "tags": []
          },
          "execution_count": 87
        }
      ]
    },
    {
      "cell_type": "code",
      "metadata": {
        "colab": {
          "base_uri": "https://localhost:8080/"
        },
        "id": "_r8T_CApVXH9",
        "outputId": "ab49d3ab-165b-4c1b-ca99-cae2a6acb847"
      },
      "source": [
        "#no of classes\r\n",
        "np.unique(df.iloc[:,-1:])"
      ],
      "execution_count": 88,
      "outputs": [
        {
          "output_type": "execute_result",
          "data": {
            "text/plain": [
              "array(['Iris-setosa', 'Iris-versicolor', 'Iris-virginica'], dtype=object)"
            ]
          },
          "metadata": {
            "tags": []
          },
          "execution_count": 88
        }
      ]
    },
    {
      "cell_type": "code",
      "metadata": {
        "colab": {
          "base_uri": "https://localhost:8080/"
        },
        "id": "7xFAdGgYWlEq",
        "outputId": "d1e987ff-1f91-455d-8a4f-c5c58acdfb36"
      },
      "source": [
        "#feature vector size\r\n",
        "df.iloc[:,0:4].shape"
      ],
      "execution_count": 89,
      "outputs": [
        {
          "output_type": "execute_result",
          "data": {
            "text/plain": [
              "(150, 4)"
            ]
          },
          "metadata": {
            "tags": []
          },
          "execution_count": 89
        }
      ]
    },
    {
      "cell_type": "markdown",
      "metadata": {
        "id": "wnebm0zc77Yt"
      },
      "source": [
        "## prior probability"
      ]
    },
    {
      "cell_type": "code",
      "metadata": {
        "id": "3vzLFRRKyU5v"
      },
      "source": [
        "def prior_prob(class_freq,total_rows):\r\n",
        "  return class_freq/total_rows\r\n"
      ],
      "execution_count": 90,
      "outputs": []
    },
    {
      "cell_type": "code",
      "metadata": {
        "colab": {
          "base_uri": "https://localhost:8080/",
          "height": 402
        },
        "id": "GjMDAV4S163-",
        "outputId": "50095064-dae6-432d-ad2f-028e42b9d37c"
      },
      "source": [
        "df.iloc[:,-1:]"
      ],
      "execution_count": 91,
      "outputs": [
        {
          "output_type": "execute_result",
          "data": {
            "text/html": [
              "<div>\n",
              "<style scoped>\n",
              "    .dataframe tbody tr th:only-of-type {\n",
              "        vertical-align: middle;\n",
              "    }\n",
              "\n",
              "    .dataframe tbody tr th {\n",
              "        vertical-align: top;\n",
              "    }\n",
              "\n",
              "    .dataframe thead th {\n",
              "        text-align: right;\n",
              "    }\n",
              "</style>\n",
              "<table border=\"1\" class=\"dataframe\">\n",
              "  <thead>\n",
              "    <tr style=\"text-align: right;\">\n",
              "      <th></th>\n",
              "      <th>4</th>\n",
              "    </tr>\n",
              "  </thead>\n",
              "  <tbody>\n",
              "    <tr>\n",
              "      <th>0</th>\n",
              "      <td>Iris-setosa</td>\n",
              "    </tr>\n",
              "    <tr>\n",
              "      <th>1</th>\n",
              "      <td>Iris-setosa</td>\n",
              "    </tr>\n",
              "    <tr>\n",
              "      <th>2</th>\n",
              "      <td>Iris-setosa</td>\n",
              "    </tr>\n",
              "    <tr>\n",
              "      <th>3</th>\n",
              "      <td>Iris-setosa</td>\n",
              "    </tr>\n",
              "    <tr>\n",
              "      <th>4</th>\n",
              "      <td>Iris-setosa</td>\n",
              "    </tr>\n",
              "    <tr>\n",
              "      <th>...</th>\n",
              "      <td>...</td>\n",
              "    </tr>\n",
              "    <tr>\n",
              "      <th>145</th>\n",
              "      <td>Iris-virginica</td>\n",
              "    </tr>\n",
              "    <tr>\n",
              "      <th>146</th>\n",
              "      <td>Iris-virginica</td>\n",
              "    </tr>\n",
              "    <tr>\n",
              "      <th>147</th>\n",
              "      <td>Iris-virginica</td>\n",
              "    </tr>\n",
              "    <tr>\n",
              "      <th>148</th>\n",
              "      <td>Iris-virginica</td>\n",
              "    </tr>\n",
              "    <tr>\n",
              "      <th>149</th>\n",
              "      <td>Iris-virginica</td>\n",
              "    </tr>\n",
              "  </tbody>\n",
              "</table>\n",
              "<p>150 rows × 1 columns</p>\n",
              "</div>"
            ],
            "text/plain": [
              "                  4\n",
              "0       Iris-setosa\n",
              "1       Iris-setosa\n",
              "2       Iris-setosa\n",
              "3       Iris-setosa\n",
              "4       Iris-setosa\n",
              "..              ...\n",
              "145  Iris-virginica\n",
              "146  Iris-virginica\n",
              "147  Iris-virginica\n",
              "148  Iris-virginica\n",
              "149  Iris-virginica\n",
              "\n",
              "[150 rows x 1 columns]"
            ]
          },
          "metadata": {
            "tags": []
          },
          "execution_count": 91
        }
      ]
    },
    {
      "cell_type": "code",
      "metadata": {
        "colab": {
          "base_uri": "https://localhost:8080/"
        },
        "id": "MyWks1PV2axZ",
        "outputId": "36bc471c-81ec-4e6d-85ae-91cd22da04c8"
      },
      "source": [
        "df.iloc[:,-1:].value_counts()"
      ],
      "execution_count": 92,
      "outputs": [
        {
          "output_type": "execute_result",
          "data": {
            "text/plain": [
              "4              \n",
              "Iris-virginica     50\n",
              "Iris-versicolor    50\n",
              "Iris-setosa        50\n",
              "dtype: int64"
            ]
          },
          "metadata": {
            "tags": []
          },
          "execution_count": 92
        }
      ]
    },
    {
      "cell_type": "code",
      "metadata": {
        "colab": {
          "base_uri": "https://localhost:8080/"
        },
        "id": "oUmF37Ul3hIO",
        "outputId": "57ce0b2f-4aad-4096-c349-0c09ecaed77f"
      },
      "source": [
        "#prior probability of each class is same as the frequency's are equal.\r\n",
        "prior_prob(50,150)"
      ],
      "execution_count": 93,
      "outputs": [
        {
          "output_type": "execute_result",
          "data": {
            "text/plain": [
              "0.3333333333333333"
            ]
          },
          "metadata": {
            "tags": []
          },
          "execution_count": 93
        }
      ]
    },
    {
      "cell_type": "markdown",
      "metadata": {
        "id": "fs7wQYDp5YnY"
      },
      "source": [
        "Mean vector dimension is  (1, no of features)\r\n",
        "\r\n",
        "\r\n"
      ]
    },
    {
      "cell_type": "code",
      "metadata": {
        "colab": {
          "base_uri": "https://localhost:8080/"
        },
        "id": "-ge9FAOg5YG9",
        "outputId": "fd88a15d-3c22-4e76-a113-f347da92bd21"
      },
      "source": [
        "df.mean(axis = 0).shape"
      ],
      "execution_count": 94,
      "outputs": [
        {
          "output_type": "execute_result",
          "data": {
            "text/plain": [
              "(4,)"
            ]
          },
          "metadata": {
            "tags": []
          },
          "execution_count": 94
        }
      ]
    },
    {
      "cell_type": "markdown",
      "metadata": {
        "id": "Cw8y8K1H7SnF"
      },
      "source": [
        " Covariance matrix dimension is (no of features,no of features).\r\n",
        "\r\n"
      ]
    },
    {
      "cell_type": "code",
      "metadata": {
        "colab": {
          "base_uri": "https://localhost:8080/"
        },
        "id": "S_AMiiQv7hsw",
        "outputId": "cf1b8891-6747-4620-dc73-54e9a90feab8"
      },
      "source": [
        "df.cov().shape"
      ],
      "execution_count": 95,
      "outputs": [
        {
          "output_type": "execute_result",
          "data": {
            "text/plain": [
              "(4, 4)"
            ]
          },
          "metadata": {
            "tags": []
          },
          "execution_count": 95
        }
      ]
    },
    {
      "cell_type": "markdown",
      "metadata": {
        "id": "2UMqjpiZ8-bZ"
      },
      "source": [
        "# Image segentation dataset"
      ]
    },
    {
      "cell_type": "code",
      "metadata": {
        "id": "CHSwb_Sm707Y"
      },
      "source": [
        "df1 = pd.read_excel('/content/drive/MyDrive/PA_1/Image Segmentation Dataset1/ImageSegData.xlsx')"
      ],
      "execution_count": 96,
      "outputs": []
    },
    {
      "cell_type": "code",
      "metadata": {
        "colab": {
          "base_uri": "https://localhost:8080/"
        },
        "id": "wUWg0zUv9IWt",
        "outputId": "5d91733e-7c09-490b-fa3c-779701e20495"
      },
      "source": [
        "df1.shape"
      ],
      "execution_count": 97,
      "outputs": [
        {
          "output_type": "execute_result",
          "data": {
            "text/plain": [
              "(210, 20)"
            ]
          },
          "metadata": {
            "tags": []
          },
          "execution_count": 97
        }
      ]
    },
    {
      "cell_type": "code",
      "metadata": {
        "colab": {
          "base_uri": "https://localhost:8080/",
          "height": 422
        },
        "id": "G0uXthBm9NuC",
        "outputId": "4e870ec9-9288-426a-8c7f-d54fc0c1d916"
      },
      "source": [
        "df1"
      ],
      "execution_count": 146,
      "outputs": [
        {
          "output_type": "execute_result",
          "data": {
            "text/html": [
              "<div>\n",
              "<style scoped>\n",
              "    .dataframe tbody tr th:only-of-type {\n",
              "        vertical-align: middle;\n",
              "    }\n",
              "\n",
              "    .dataframe tbody tr th {\n",
              "        vertical-align: top;\n",
              "    }\n",
              "\n",
              "    .dataframe thead th {\n",
              "        text-align: right;\n",
              "    }\n",
              "</style>\n",
              "<table border=\"1\" class=\"dataframe\">\n",
              "  <thead>\n",
              "    <tr style=\"text-align: right;\">\n",
              "      <th></th>\n",
              "      <th>classes</th>\n",
              "      <th>a</th>\n",
              "      <th>b</th>\n",
              "      <th>c</th>\n",
              "      <th>d</th>\n",
              "      <th>e</th>\n",
              "      <th>f</th>\n",
              "      <th>g</th>\n",
              "      <th>h</th>\n",
              "      <th>i</th>\n",
              "      <th>j</th>\n",
              "      <th>k</th>\n",
              "      <th>l</th>\n",
              "      <th>m</th>\n",
              "      <th>n</th>\n",
              "      <th>o</th>\n",
              "      <th>p</th>\n",
              "      <th>q</th>\n",
              "      <th>r</th>\n",
              "      <th>s</th>\n",
              "    </tr>\n",
              "  </thead>\n",
              "  <tbody>\n",
              "    <tr>\n",
              "      <th>0</th>\n",
              "      <td>BRICKFACE</td>\n",
              "      <td>140</td>\n",
              "      <td>125</td>\n",
              "      <td>9</td>\n",
              "      <td>0.000000</td>\n",
              "      <td>0.0</td>\n",
              "      <td>0.277778</td>\n",
              "      <td>0.062963</td>\n",
              "      <td>0.666667</td>\n",
              "      <td>0.311111</td>\n",
              "      <td>6.185185</td>\n",
              "      <td>7.333334</td>\n",
              "      <td>7.666666</td>\n",
              "      <td>3.555556</td>\n",
              "      <td>3.444444</td>\n",
              "      <td>4.444445</td>\n",
              "      <td>-7.888889</td>\n",
              "      <td>7.777778</td>\n",
              "      <td>0.545635</td>\n",
              "      <td>-1.121818</td>\n",
              "    </tr>\n",
              "    <tr>\n",
              "      <th>1</th>\n",
              "      <td>BRICKFACE</td>\n",
              "      <td>188</td>\n",
              "      <td>133</td>\n",
              "      <td>9</td>\n",
              "      <td>0.000000</td>\n",
              "      <td>0.0</td>\n",
              "      <td>0.333333</td>\n",
              "      <td>0.266667</td>\n",
              "      <td>0.500000</td>\n",
              "      <td>0.077778</td>\n",
              "      <td>6.666666</td>\n",
              "      <td>8.333334</td>\n",
              "      <td>7.777778</td>\n",
              "      <td>3.888889</td>\n",
              "      <td>5.000000</td>\n",
              "      <td>3.333333</td>\n",
              "      <td>-8.333333</td>\n",
              "      <td>8.444445</td>\n",
              "      <td>0.538580</td>\n",
              "      <td>-0.924817</td>\n",
              "    </tr>\n",
              "    <tr>\n",
              "      <th>2</th>\n",
              "      <td>BRICKFACE</td>\n",
              "      <td>105</td>\n",
              "      <td>139</td>\n",
              "      <td>9</td>\n",
              "      <td>0.000000</td>\n",
              "      <td>0.0</td>\n",
              "      <td>0.277778</td>\n",
              "      <td>0.107407</td>\n",
              "      <td>0.833333</td>\n",
              "      <td>0.522222</td>\n",
              "      <td>6.111111</td>\n",
              "      <td>7.555555</td>\n",
              "      <td>7.222222</td>\n",
              "      <td>3.555556</td>\n",
              "      <td>4.333334</td>\n",
              "      <td>3.333333</td>\n",
              "      <td>-7.666666</td>\n",
              "      <td>7.555555</td>\n",
              "      <td>0.532628</td>\n",
              "      <td>-0.965946</td>\n",
              "    </tr>\n",
              "    <tr>\n",
              "      <th>3</th>\n",
              "      <td>BRICKFACE</td>\n",
              "      <td>34</td>\n",
              "      <td>137</td>\n",
              "      <td>9</td>\n",
              "      <td>0.000000</td>\n",
              "      <td>0.0</td>\n",
              "      <td>0.500000</td>\n",
              "      <td>0.166667</td>\n",
              "      <td>1.111111</td>\n",
              "      <td>0.474074</td>\n",
              "      <td>5.851852</td>\n",
              "      <td>7.777778</td>\n",
              "      <td>6.444445</td>\n",
              "      <td>3.333333</td>\n",
              "      <td>5.777778</td>\n",
              "      <td>1.777778</td>\n",
              "      <td>-7.555555</td>\n",
              "      <td>7.777778</td>\n",
              "      <td>0.573633</td>\n",
              "      <td>-0.744272</td>\n",
              "    </tr>\n",
              "    <tr>\n",
              "      <th>4</th>\n",
              "      <td>BRICKFACE</td>\n",
              "      <td>39</td>\n",
              "      <td>111</td>\n",
              "      <td>9</td>\n",
              "      <td>0.000000</td>\n",
              "      <td>0.0</td>\n",
              "      <td>0.722222</td>\n",
              "      <td>0.374074</td>\n",
              "      <td>0.888889</td>\n",
              "      <td>0.429629</td>\n",
              "      <td>6.037037</td>\n",
              "      <td>7.000000</td>\n",
              "      <td>7.666666</td>\n",
              "      <td>3.444444</td>\n",
              "      <td>2.888889</td>\n",
              "      <td>4.888889</td>\n",
              "      <td>-7.777778</td>\n",
              "      <td>7.888889</td>\n",
              "      <td>0.562919</td>\n",
              "      <td>-1.175773</td>\n",
              "    </tr>\n",
              "    <tr>\n",
              "      <th>...</th>\n",
              "      <td>...</td>\n",
              "      <td>...</td>\n",
              "      <td>...</td>\n",
              "      <td>...</td>\n",
              "      <td>...</td>\n",
              "      <td>...</td>\n",
              "      <td>...</td>\n",
              "      <td>...</td>\n",
              "      <td>...</td>\n",
              "      <td>...</td>\n",
              "      <td>...</td>\n",
              "      <td>...</td>\n",
              "      <td>...</td>\n",
              "      <td>...</td>\n",
              "      <td>...</td>\n",
              "      <td>...</td>\n",
              "      <td>...</td>\n",
              "      <td>...</td>\n",
              "      <td>...</td>\n",
              "      <td>...</td>\n",
              "    </tr>\n",
              "    <tr>\n",
              "      <th>205</th>\n",
              "      <td>GRASS</td>\n",
              "      <td>36</td>\n",
              "      <td>243</td>\n",
              "      <td>9</td>\n",
              "      <td>0.111111</td>\n",
              "      <td>0.0</td>\n",
              "      <td>1.888889</td>\n",
              "      <td>1.851851</td>\n",
              "      <td>2.000000</td>\n",
              "      <td>0.711110</td>\n",
              "      <td>13.333333</td>\n",
              "      <td>9.888889</td>\n",
              "      <td>12.111111</td>\n",
              "      <td>18.000000</td>\n",
              "      <td>-10.333333</td>\n",
              "      <td>-3.666667</td>\n",
              "      <td>14.000000</td>\n",
              "      <td>18.000000</td>\n",
              "      <td>0.452229</td>\n",
              "      <td>2.368311</td>\n",
              "    </tr>\n",
              "    <tr>\n",
              "      <th>206</th>\n",
              "      <td>GRASS</td>\n",
              "      <td>186</td>\n",
              "      <td>218</td>\n",
              "      <td>9</td>\n",
              "      <td>0.000000</td>\n",
              "      <td>0.0</td>\n",
              "      <td>1.166667</td>\n",
              "      <td>0.744444</td>\n",
              "      <td>1.166667</td>\n",
              "      <td>0.655555</td>\n",
              "      <td>13.703704</td>\n",
              "      <td>10.666667</td>\n",
              "      <td>12.666667</td>\n",
              "      <td>17.777779</td>\n",
              "      <td>-9.111111</td>\n",
              "      <td>-3.111111</td>\n",
              "      <td>12.222222</td>\n",
              "      <td>17.777779</td>\n",
              "      <td>0.401347</td>\n",
              "      <td>2.382684</td>\n",
              "    </tr>\n",
              "    <tr>\n",
              "      <th>207</th>\n",
              "      <td>GRASS</td>\n",
              "      <td>197</td>\n",
              "      <td>236</td>\n",
              "      <td>9</td>\n",
              "      <td>0.000000</td>\n",
              "      <td>0.0</td>\n",
              "      <td>2.444444</td>\n",
              "      <td>6.829628</td>\n",
              "      <td>3.333333</td>\n",
              "      <td>7.599998</td>\n",
              "      <td>16.074074</td>\n",
              "      <td>13.111111</td>\n",
              "      <td>16.666668</td>\n",
              "      <td>18.444445</td>\n",
              "      <td>-8.888889</td>\n",
              "      <td>1.777778</td>\n",
              "      <td>7.111111</td>\n",
              "      <td>18.555555</td>\n",
              "      <td>0.292729</td>\n",
              "      <td>2.789800</td>\n",
              "    </tr>\n",
              "    <tr>\n",
              "      <th>208</th>\n",
              "      <td>GRASS</td>\n",
              "      <td>208</td>\n",
              "      <td>240</td>\n",
              "      <td>9</td>\n",
              "      <td>0.111111</td>\n",
              "      <td>0.0</td>\n",
              "      <td>1.055556</td>\n",
              "      <td>0.862963</td>\n",
              "      <td>2.444444</td>\n",
              "      <td>5.007407</td>\n",
              "      <td>14.148149</td>\n",
              "      <td>10.888889</td>\n",
              "      <td>13.000000</td>\n",
              "      <td>18.555555</td>\n",
              "      <td>-9.777778</td>\n",
              "      <td>-3.444444</td>\n",
              "      <td>13.222222</td>\n",
              "      <td>18.555555</td>\n",
              "      <td>0.421621</td>\n",
              "      <td>2.392487</td>\n",
              "    </tr>\n",
              "    <tr>\n",
              "      <th>209</th>\n",
              "      <td>GRASS</td>\n",
              "      <td>223</td>\n",
              "      <td>185</td>\n",
              "      <td>9</td>\n",
              "      <td>0.000000</td>\n",
              "      <td>0.0</td>\n",
              "      <td>0.500000</td>\n",
              "      <td>0.349603</td>\n",
              "      <td>2.388889</td>\n",
              "      <td>2.080776</td>\n",
              "      <td>12.962963</td>\n",
              "      <td>11.555555</td>\n",
              "      <td>9.777778</td>\n",
              "      <td>17.555555</td>\n",
              "      <td>-4.222222</td>\n",
              "      <td>-9.555555</td>\n",
              "      <td>13.777778</td>\n",
              "      <td>17.555555</td>\n",
              "      <td>0.445418</td>\n",
              "      <td>1.838850</td>\n",
              "    </tr>\n",
              "  </tbody>\n",
              "</table>\n",
              "<p>210 rows × 20 columns</p>\n",
              "</div>"
            ],
            "text/plain": [
              "       classes    a    b  c  ...          p          q         r         s\n",
              "0    BRICKFACE  140  125  9  ...  -7.888889   7.777778  0.545635 -1.121818\n",
              "1    BRICKFACE  188  133  9  ...  -8.333333   8.444445  0.538580 -0.924817\n",
              "2    BRICKFACE  105  139  9  ...  -7.666666   7.555555  0.532628 -0.965946\n",
              "3    BRICKFACE   34  137  9  ...  -7.555555   7.777778  0.573633 -0.744272\n",
              "4    BRICKFACE   39  111  9  ...  -7.777778   7.888889  0.562919 -1.175773\n",
              "..         ...  ...  ... ..  ...        ...        ...       ...       ...\n",
              "205      GRASS   36  243  9  ...  14.000000  18.000000  0.452229  2.368311\n",
              "206      GRASS  186  218  9  ...  12.222222  17.777779  0.401347  2.382684\n",
              "207      GRASS  197  236  9  ...   7.111111  18.555555  0.292729  2.789800\n",
              "208      GRASS  208  240  9  ...  13.222222  18.555555  0.421621  2.392487\n",
              "209      GRASS  223  185  9  ...  13.777778  17.555555  0.445418  1.838850\n",
              "\n",
              "[210 rows x 20 columns]"
            ]
          },
          "metadata": {
            "tags": []
          },
          "execution_count": 146
        }
      ]
    },
    {
      "cell_type": "code",
      "metadata": {
        "colab": {
          "base_uri": "https://localhost:8080/"
        },
        "id": "SCsKPzFb9P7B",
        "outputId": "0aac9870-ef50-4970-d3ea-a68da3eaae1a"
      },
      "source": [
        "#no of classes\r\n",
        "np.unique(df1.iloc[:,:1])"
      ],
      "execution_count": 99,
      "outputs": [
        {
          "output_type": "execute_result",
          "data": {
            "text/plain": [
              "array(['BRICKFACE', 'CEMENT', 'FOLIAGE', 'GRASS', 'PATH', 'SKY', 'WINDOW'],\n",
              "      dtype=object)"
            ]
          },
          "metadata": {
            "tags": []
          },
          "execution_count": 99
        }
      ]
    },
    {
      "cell_type": "code",
      "metadata": {
        "colab": {
          "base_uri": "https://localhost:8080/"
        },
        "id": "T3ZPp5ET-cIW",
        "outputId": "e02666ed-174c-4b5e-d8d9-f4a31b570209"
      },
      "source": [
        "#feature vector size\r\n",
        "df1.iloc[:,1:].shape"
      ],
      "execution_count": 100,
      "outputs": [
        {
          "output_type": "execute_result",
          "data": {
            "text/plain": [
              "(210, 19)"
            ]
          },
          "metadata": {
            "tags": []
          },
          "execution_count": 100
        }
      ]
    },
    {
      "cell_type": "code",
      "metadata": {
        "colab": {
          "base_uri": "https://localhost:8080/"
        },
        "id": "_UUG7XaM_I3w",
        "outputId": "d05ea0ab-4365-428e-e154-b3be2a9cfee9"
      },
      "source": [
        "df1.iloc[:,:1].value_counts()"
      ],
      "execution_count": 101,
      "outputs": [
        {
          "output_type": "execute_result",
          "data": {
            "text/plain": [
              "classes  \n",
              "WINDOW       30\n",
              "SKY          30\n",
              "PATH         30\n",
              "GRASS        30\n",
              "FOLIAGE      30\n",
              "CEMENT       30\n",
              "BRICKFACE    30\n",
              "dtype: int64"
            ]
          },
          "metadata": {
            "tags": []
          },
          "execution_count": 101
        }
      ]
    },
    {
      "cell_type": "code",
      "metadata": {
        "colab": {
          "base_uri": "https://localhost:8080/"
        },
        "id": "BQtqNKan_VJA",
        "outputId": "e93ffda6-3626-4c2a-8b17-020ae48e6456"
      },
      "source": [
        "#prior probability of each class is same as the frequency's are equal.\r\n",
        "prior_prob(30,210)"
      ],
      "execution_count": 102,
      "outputs": [
        {
          "output_type": "execute_result",
          "data": {
            "text/plain": [
              "0.14285714285714285"
            ]
          },
          "metadata": {
            "tags": []
          },
          "execution_count": 102
        }
      ]
    },
    {
      "cell_type": "code",
      "metadata": {
        "colab": {
          "base_uri": "https://localhost:8080/"
        },
        "id": "EyZBz5ml_kTQ",
        "outputId": "494a9736-07ca-47f3-e843-7bcd272ed698"
      },
      "source": [
        "df1.mean(axis = 0).shape"
      ],
      "execution_count": 103,
      "outputs": [
        {
          "output_type": "execute_result",
          "data": {
            "text/plain": [
              "(19,)"
            ]
          },
          "metadata": {
            "tags": []
          },
          "execution_count": 103
        }
      ]
    },
    {
      "cell_type": "code",
      "metadata": {
        "colab": {
          "base_uri": "https://localhost:8080/"
        },
        "id": "7Hd6ET8U_92N",
        "outputId": "62ee4cd8-bfec-47d1-814f-21561e871d55"
      },
      "source": [
        "df1.cov().shape"
      ],
      "execution_count": 104,
      "outputs": [
        {
          "output_type": "execute_result",
          "data": {
            "text/plain": [
              "(19, 19)"
            ]
          },
          "metadata": {
            "tags": []
          },
          "execution_count": 104
        }
      ]
    },
    {
      "cell_type": "markdown",
      "metadata": {
        "id": "CWJkvz5jAZFC"
      },
      "source": [
        "# Ionospheric Dataset 2"
      ]
    },
    {
      "cell_type": "code",
      "metadata": {
        "id": "lAYwYSJpAEon"
      },
      "source": [
        "df2 = pd.read_excel('/content/drive/MyDrive/PA_1/Ionospheric Dataset 2/ionosphere.xlsx')"
      ],
      "execution_count": 105,
      "outputs": []
    },
    {
      "cell_type": "code",
      "metadata": {
        "colab": {
          "base_uri": "https://localhost:8080/"
        },
        "id": "_FUMTeT0Akjt",
        "outputId": "f5b9866c-27a5-4b8b-c01f-053af6423486"
      },
      "source": [
        "df2.shape"
      ],
      "execution_count": 106,
      "outputs": [
        {
          "output_type": "execute_result",
          "data": {
            "text/plain": [
              "(351, 35)"
            ]
          },
          "metadata": {
            "tags": []
          },
          "execution_count": 106
        }
      ]
    },
    {
      "cell_type": "code",
      "metadata": {
        "colab": {
          "base_uri": "https://localhost:8080/"
        },
        "id": "oLW-Yvc1BJok",
        "outputId": "f6ab9452-c9ac-458f-880e-1612c6dc364b"
      },
      "source": [
        "df2.head"
      ],
      "execution_count": 107,
      "outputs": [
        {
          "output_type": "execute_result",
          "data": {
            "text/plain": [
              "<bound method NDFrame.head of      Unnamed: 0  Unnamed: 1  Unnamed: 2  ...  Unnamed: 32  Unnamed: 33  Unnamed: 34\n",
              "0             1           0     0.99539  ...      0.18641     -0.45300            g\n",
              "1             1           0     1.00000  ...     -0.13738     -0.02447            b\n",
              "2             1           0     1.00000  ...      0.56045     -0.38238            g\n",
              "3             1           0     1.00000  ...     -0.32382      1.00000            b\n",
              "4             1           0     1.00000  ...     -0.04608     -0.65697            g\n",
              "..          ...         ...         ...  ...          ...          ...          ...\n",
              "346           1           0     0.83508  ...      0.90546     -0.04307            g\n",
              "347           1           0     0.95113  ...      0.91483      0.04712            g\n",
              "348           1           0     0.94701  ...      0.92697     -0.00577            g\n",
              "349           1           0     0.90608  ...      0.87403     -0.16243            g\n",
              "350           1           0     0.84710  ...      0.85764     -0.06151            g\n",
              "\n",
              "[351 rows x 35 columns]>"
            ]
          },
          "metadata": {
            "tags": []
          },
          "execution_count": 107
        }
      ]
    },
    {
      "cell_type": "code",
      "metadata": {
        "colab": {
          "base_uri": "https://localhost:8080/"
        },
        "id": "YAnWMGtvBTN1",
        "outputId": "7a1b9917-02fa-47e5-dd5a-c5f014fdaa18"
      },
      "source": [
        "#classes \r\n",
        "np.unique(df2.iloc[:,-1:])"
      ],
      "execution_count": 108,
      "outputs": [
        {
          "output_type": "execute_result",
          "data": {
            "text/plain": [
              "array(['b', 'g'], dtype=object)"
            ]
          },
          "metadata": {
            "tags": []
          },
          "execution_count": 108
        }
      ]
    },
    {
      "cell_type": "code",
      "metadata": {
        "colab": {
          "base_uri": "https://localhost:8080/"
        },
        "id": "Cl7TkNwDCgJ5",
        "outputId": "cca97f62-38bd-4d3b-e244-bb6497c20653"
      },
      "source": [
        "#feature vector size\r\n",
        "df2.iloc[:,0:34].shape"
      ],
      "execution_count": 109,
      "outputs": [
        {
          "output_type": "execute_result",
          "data": {
            "text/plain": [
              "(351, 34)"
            ]
          },
          "metadata": {
            "tags": []
          },
          "execution_count": 109
        }
      ]
    },
    {
      "cell_type": "code",
      "metadata": {
        "colab": {
          "base_uri": "https://localhost:8080/"
        },
        "id": "nuEp2LRxC_yi",
        "outputId": "d00b06be-8457-4038-bbf4-0bb9af9cbe8b"
      },
      "source": [
        "df2.iloc[:,-1:].value_counts()"
      ],
      "execution_count": 110,
      "outputs": [
        {
          "output_type": "execute_result",
          "data": {
            "text/plain": [
              "Unnamed: 34\n",
              "g              225\n",
              "b              126\n",
              "dtype: int64"
            ]
          },
          "metadata": {
            "tags": []
          },
          "execution_count": 110
        }
      ]
    },
    {
      "cell_type": "code",
      "metadata": {
        "colab": {
          "base_uri": "https://localhost:8080/"
        },
        "id": "7WucvNxfDei6",
        "outputId": "571d2b4e-aaba-49ce-9940-1b8b806878a0"
      },
      "source": [
        "#for g\r\n",
        "print(prior_prob(225,351))\r\n",
        "#for b\r\n",
        "print(1-prior_prob(225,351))"
      ],
      "execution_count": 111,
      "outputs": [
        {
          "output_type": "stream",
          "text": [
            "0.6410256410256411\n",
            "0.3589743589743589\n"
          ],
          "name": "stdout"
        }
      ]
    },
    {
      "cell_type": "code",
      "metadata": {
        "colab": {
          "base_uri": "https://localhost:8080/"
        },
        "id": "S4YtW-xkEGvz",
        "outputId": "ef346897-7331-464c-f303-03c960419e64"
      },
      "source": [
        "df2.mean(axis = 0).shape"
      ],
      "execution_count": 112,
      "outputs": [
        {
          "output_type": "execute_result",
          "data": {
            "text/plain": [
              "(34,)"
            ]
          },
          "metadata": {
            "tags": []
          },
          "execution_count": 112
        }
      ]
    },
    {
      "cell_type": "code",
      "metadata": {
        "colab": {
          "base_uri": "https://localhost:8080/"
        },
        "id": "APjRBvffNFSi",
        "outputId": "1a6c0b68-1e78-4b60-84f1-be946a7f27f4"
      },
      "source": [
        "df2.cov().shape"
      ],
      "execution_count": 113,
      "outputs": [
        {
          "output_type": "execute_result",
          "data": {
            "text/plain": [
              "(34, 34)"
            ]
          },
          "metadata": {
            "tags": []
          },
          "execution_count": 113
        }
      ]
    },
    {
      "cell_type": "markdown",
      "metadata": {
        "id": "K38w6ksONk0q"
      },
      "source": [
        "## Letter Recognition Dataset"
      ]
    },
    {
      "cell_type": "code",
      "metadata": {
        "id": "BY6kWE7CNJFj"
      },
      "source": [
        "df3 = pd.read_excel('/content/drive/MyDrive/PA_1/Letter Recognition Dataset 4/letterRecognition.xlsx')"
      ],
      "execution_count": 114,
      "outputs": []
    },
    {
      "cell_type": "code",
      "metadata": {
        "colab": {
          "base_uri": "https://localhost:8080/"
        },
        "id": "51BFcmXaO3Wr",
        "outputId": "6ad2fc2e-5a78-4bc4-a630-e48170b0cd77"
      },
      "source": [
        "df3.shape"
      ],
      "execution_count": 115,
      "outputs": [
        {
          "output_type": "execute_result",
          "data": {
            "text/plain": [
              "(20000, 17)"
            ]
          },
          "metadata": {
            "tags": []
          },
          "execution_count": 115
        }
      ]
    },
    {
      "cell_type": "code",
      "metadata": {
        "colab": {
          "base_uri": "https://localhost:8080/"
        },
        "id": "68Tcm8uMO7XY",
        "outputId": "60df3253-3d6d-490c-89ff-717ff389f4fa"
      },
      "source": [
        "df3.head"
      ],
      "execution_count": 116,
      "outputs": [
        {
          "output_type": "execute_result",
          "data": {
            "text/plain": [
              "<bound method NDFrame.head of       Unnamed: 0  Unnamed: 1  Unnamed: 2  ...  Unnamed: 14  Unnamed: 15  Unnamed: 16\n",
              "0              T           2           8  ...            8            0            8\n",
              "1              I           5          12  ...            8            4           10\n",
              "2              D           4          11  ...            7            3            9\n",
              "3              N           7          11  ...           10            2            8\n",
              "4              G           2           1  ...            7            5           10\n",
              "...          ...         ...         ...  ...          ...          ...          ...\n",
              "19995          D           2           2  ...            8            3            7\n",
              "19996          C           7          10  ...            9            3            7\n",
              "19997          T           6           9  ...           12            2            4\n",
              "19998          S           2           3  ...            9            5            8\n",
              "19999          A           4           9  ...            7            2            8\n",
              "\n",
              "[20000 rows x 17 columns]>"
            ]
          },
          "metadata": {
            "tags": []
          },
          "execution_count": 116
        }
      ]
    },
    {
      "cell_type": "code",
      "metadata": {
        "colab": {
          "base_uri": "https://localhost:8080/"
        },
        "id": "VcGCKzIMQMi6",
        "outputId": "5af7b8e9-5a2e-4db5-b602-2a8aa9098b91"
      },
      "source": [
        "#no of classes\r\n",
        "np.unique(df3.iloc[:,:1])"
      ],
      "execution_count": 117,
      "outputs": [
        {
          "output_type": "execute_result",
          "data": {
            "text/plain": [
              "array(['A', 'B', 'C', 'D', 'E', 'F', 'G', 'H', 'I', 'J', 'K', 'L', 'M',\n",
              "       'N', 'O', 'P', 'Q', 'R', 'S', 'T', 'U', 'V', 'W', 'X', 'Y', 'Z'],\n",
              "      dtype=object)"
            ]
          },
          "metadata": {
            "tags": []
          },
          "execution_count": 117
        }
      ]
    },
    {
      "cell_type": "code",
      "metadata": {
        "colab": {
          "base_uri": "https://localhost:8080/"
        },
        "id": "Sjtvo3f8QXlT",
        "outputId": "7377a6d4-60b0-4a58-e2fd-025fad6d9778"
      },
      "source": [
        "#feature vector size\r\n",
        "df3.iloc[:,1:].shape"
      ],
      "execution_count": 118,
      "outputs": [
        {
          "output_type": "execute_result",
          "data": {
            "text/plain": [
              "(20000, 16)"
            ]
          },
          "metadata": {
            "tags": []
          },
          "execution_count": 118
        }
      ]
    },
    {
      "cell_type": "code",
      "metadata": {
        "colab": {
          "base_uri": "https://localhost:8080/"
        },
        "id": "CuJVs6sEQffd",
        "outputId": "cc75aafc-de41-4272-8251-1677299fcdc1"
      },
      "source": [
        "#prior\r\n",
        "df3.iloc[:,:1].value_counts()/20000"
      ],
      "execution_count": 119,
      "outputs": [
        {
          "output_type": "execute_result",
          "data": {
            "text/plain": [
              "Unnamed: 0\n",
              "U             0.04065\n",
              "D             0.04025\n",
              "P             0.04015\n",
              "T             0.03980\n",
              "M             0.03960\n",
              "A             0.03945\n",
              "X             0.03935\n",
              "Y             0.03930\n",
              "Q             0.03915\n",
              "N             0.03915\n",
              "F             0.03875\n",
              "G             0.03865\n",
              "E             0.03840\n",
              "B             0.03830\n",
              "V             0.03820\n",
              "L             0.03805\n",
              "R             0.03790\n",
              "I             0.03775\n",
              "O             0.03765\n",
              "W             0.03760\n",
              "S             0.03740\n",
              "J             0.03735\n",
              "K             0.03695\n",
              "C             0.03680\n",
              "H             0.03670\n",
              "Z             0.03670\n",
              "dtype: float64"
            ]
          },
          "metadata": {
            "tags": []
          },
          "execution_count": 119
        }
      ]
    },
    {
      "cell_type": "code",
      "metadata": {
        "colab": {
          "base_uri": "https://localhost:8080/"
        },
        "id": "anLe73JwQ0Ml",
        "outputId": "7155b6e5-07b9-43ed-921d-9c81209e1d11"
      },
      "source": [
        "print(df3.mean(axis = 0).shape)\r\n",
        "df3.cov().shape"
      ],
      "execution_count": 120,
      "outputs": [
        {
          "output_type": "stream",
          "text": [
            "(16,)\n"
          ],
          "name": "stdout"
        },
        {
          "output_type": "execute_result",
          "data": {
            "text/plain": [
              "(16, 16)"
            ]
          },
          "metadata": {
            "tags": []
          },
          "execution_count": 120
        }
      ]
    },
    {
      "cell_type": "markdown",
      "metadata": {
        "id": "JdJkFyalS2hn"
      },
      "source": [
        "# Liver disorders dataset"
      ]
    },
    {
      "cell_type": "code",
      "metadata": {
        "id": "oPaO-nS3SufJ"
      },
      "source": [
        "df4 = pd.read_excel('/content/drive/MyDrive/PA_1/Liver Disorders Dataset 5/LiverDisorders.xlsx')"
      ],
      "execution_count": 121,
      "outputs": []
    },
    {
      "cell_type": "code",
      "metadata": {
        "colab": {
          "base_uri": "https://localhost:8080/"
        },
        "id": "fz6tLKOjTJL4",
        "outputId": "b96b04f9-ff30-4b66-afcc-fd8e598946fc"
      },
      "source": [
        "df4.shape"
      ],
      "execution_count": 122,
      "outputs": [
        {
          "output_type": "execute_result",
          "data": {
            "text/plain": [
              "(345, 7)"
            ]
          },
          "metadata": {
            "tags": []
          },
          "execution_count": 122
        }
      ]
    },
    {
      "cell_type": "code",
      "metadata": {
        "colab": {
          "base_uri": "https://localhost:8080/"
        },
        "id": "jEzgum_dTn2n",
        "outputId": "1b1523ed-cf58-487c-fd28-9beb6a0ee3c4"
      },
      "source": [
        "df4.head"
      ],
      "execution_count": 123,
      "outputs": [
        {
          "output_type": "execute_result",
          "data": {
            "text/plain": [
              "<bound method NDFrame.head of      Unnamed: 0  Unnamed: 1  Unnamed: 2  ...  Unnamed: 4  Unnamed: 5  Unnamed: 6\n",
              "0            85          92          45  ...          31         0.0           1\n",
              "1            85          64          59  ...          23         0.0           2\n",
              "2            86          54          33  ...          54         0.0           2\n",
              "3            91          78          34  ...          36         0.0           2\n",
              "4            87          70          12  ...          10         0.0           2\n",
              "..          ...         ...         ...  ...         ...         ...         ...\n",
              "340          99          75          26  ...          41        12.0           1\n",
              "341          96          69          53  ...         203        12.0           2\n",
              "342          98          77          55  ...          89        15.0           1\n",
              "343          91          68          27  ...          14        16.0           1\n",
              "344          98          99          57  ...          65        20.0           1\n",
              "\n",
              "[345 rows x 7 columns]>"
            ]
          },
          "metadata": {
            "tags": []
          },
          "execution_count": 123
        }
      ]
    },
    {
      "cell_type": "code",
      "metadata": {
        "colab": {
          "base_uri": "https://localhost:8080/"
        },
        "id": "u8QUg6IlTpIr",
        "outputId": "722f8769-0f8d-4b85-81dc-e0fba64dd89f"
      },
      "source": [
        "#classes \r\n",
        "np.unique(df4.iloc[:,-1:])"
      ],
      "execution_count": 124,
      "outputs": [
        {
          "output_type": "execute_result",
          "data": {
            "text/plain": [
              "array([1, 2])"
            ]
          },
          "metadata": {
            "tags": []
          },
          "execution_count": 124
        }
      ]
    },
    {
      "cell_type": "code",
      "metadata": {
        "colab": {
          "base_uri": "https://localhost:8080/"
        },
        "id": "8h2_bzimT1UY",
        "outputId": "91b0dc3e-4ac4-4bc6-ed3f-4ae681820d6c"
      },
      "source": [
        "#feature vector size\r\n",
        "df4.iloc[:,0:6].shape"
      ],
      "execution_count": 125,
      "outputs": [
        {
          "output_type": "execute_result",
          "data": {
            "text/plain": [
              "(345, 6)"
            ]
          },
          "metadata": {
            "tags": []
          },
          "execution_count": 125
        }
      ]
    },
    {
      "cell_type": "code",
      "metadata": {
        "colab": {
          "base_uri": "https://localhost:8080/"
        },
        "id": "imafK-EBUASq",
        "outputId": "7d785924-c3cf-4e60-fb87-ac5243cdc99f"
      },
      "source": [
        "df4.iloc[:,-1:].value_counts()"
      ],
      "execution_count": 126,
      "outputs": [
        {
          "output_type": "execute_result",
          "data": {
            "text/plain": [
              "Unnamed: 6\n",
              "2             200\n",
              "1             145\n",
              "dtype: int64"
            ]
          },
          "metadata": {
            "tags": []
          },
          "execution_count": 126
        }
      ]
    },
    {
      "cell_type": "code",
      "metadata": {
        "colab": {
          "base_uri": "https://localhost:8080/"
        },
        "id": "gcYWqP3cbdOM",
        "outputId": "ccb3f051-822a-49b8-bdc9-fd8725fd3d02"
      },
      "source": [
        "#for 1\r\n",
        "print(prior_prob(145,345))\r\n",
        "#for 2\r\n",
        "print(1-prior_prob(145,351))"
      ],
      "execution_count": 127,
      "outputs": [
        {
          "output_type": "stream",
          "text": [
            "0.42028985507246375\n",
            "0.586894586894587\n"
          ],
          "name": "stdout"
        }
      ]
    },
    {
      "cell_type": "code",
      "metadata": {
        "colab": {
          "base_uri": "https://localhost:8080/"
        },
        "id": "fcLUTsnIb4Or",
        "outputId": "26f8374f-8c1f-4e3f-b0b1-e5a5f432b95e"
      },
      "source": [
        "print(df4.mean(axis = 0).shape)\r\n",
        "df4.cov().shape"
      ],
      "execution_count": 128,
      "outputs": [
        {
          "output_type": "stream",
          "text": [
            "(7,)\n"
          ],
          "name": "stdout"
        },
        {
          "output_type": "execute_result",
          "data": {
            "text/plain": [
              "(7, 7)"
            ]
          },
          "metadata": {
            "tags": []
          },
          "execution_count": 128
        }
      ]
    },
    {
      "cell_type": "markdown",
      "metadata": {
        "id": "iEblSgZWcIIV"
      },
      "source": [
        "# Solar Flare Dataset 6"
      ]
    },
    {
      "cell_type": "code",
      "metadata": {
        "id": "ISMNPB6fcEY6"
      },
      "source": [
        "df5 = pd.read_excel('/content/drive/MyDrive/PA_1/Solar Flare Dataset 6/solarflare1.xlsx')"
      ],
      "execution_count": 129,
      "outputs": []
    },
    {
      "cell_type": "code",
      "metadata": {
        "colab": {
          "base_uri": "https://localhost:8080/"
        },
        "id": "aQkPWkeGcoNz",
        "outputId": "8d41383d-619c-4081-8d10-2072c02c3303"
      },
      "source": [
        "df5.shape"
      ],
      "execution_count": 130,
      "outputs": [
        {
          "output_type": "execute_result",
          "data": {
            "text/plain": [
              "(1066, 13)"
            ]
          },
          "metadata": {
            "tags": []
          },
          "execution_count": 130
        }
      ]
    },
    {
      "cell_type": "code",
      "metadata": {
        "colab": {
          "base_uri": "https://localhost:8080/",
          "height": 402
        },
        "id": "az7DA2mtcrNP",
        "outputId": "87e581ac-4e3e-473c-e7ce-509f70e80ba2"
      },
      "source": [
        "df5"
      ],
      "execution_count": 147,
      "outputs": [
        {
          "output_type": "execute_result",
          "data": {
            "text/html": [
              "<div>\n",
              "<style scoped>\n",
              "    .dataframe tbody tr th:only-of-type {\n",
              "        vertical-align: middle;\n",
              "    }\n",
              "\n",
              "    .dataframe tbody tr th {\n",
              "        vertical-align: top;\n",
              "    }\n",
              "\n",
              "    .dataframe thead th {\n",
              "        text-align: right;\n",
              "    }\n",
              "</style>\n",
              "<table border=\"1\" class=\"dataframe\">\n",
              "  <thead>\n",
              "    <tr style=\"text-align: right;\">\n",
              "      <th></th>\n",
              "      <th>Unnamed: 0</th>\n",
              "      <th>Unnamed: 1</th>\n",
              "      <th>Unnamed: 2</th>\n",
              "      <th>Unnamed: 3</th>\n",
              "      <th>Unnamed: 4</th>\n",
              "      <th>Unnamed: 5</th>\n",
              "      <th>Unnamed: 6</th>\n",
              "      <th>Unnamed: 7</th>\n",
              "      <th>Unnamed: 8</th>\n",
              "      <th>Unnamed: 9</th>\n",
              "      <th>Unnamed: 10</th>\n",
              "      <th>Unnamed: 11</th>\n",
              "      <th>Unnamed: 12</th>\n",
              "    </tr>\n",
              "  </thead>\n",
              "  <tbody>\n",
              "    <tr>\n",
              "      <th>0</th>\n",
              "      <td>H</td>\n",
              "      <td>A</td>\n",
              "      <td>X</td>\n",
              "      <td>1</td>\n",
              "      <td>3</td>\n",
              "      <td>1</td>\n",
              "      <td>1</td>\n",
              "      <td>1</td>\n",
              "      <td>1</td>\n",
              "      <td>1</td>\n",
              "      <td>0</td>\n",
              "      <td>0</td>\n",
              "      <td>0</td>\n",
              "    </tr>\n",
              "    <tr>\n",
              "      <th>1</th>\n",
              "      <td>D</td>\n",
              "      <td>R</td>\n",
              "      <td>O</td>\n",
              "      <td>1</td>\n",
              "      <td>3</td>\n",
              "      <td>1</td>\n",
              "      <td>1</td>\n",
              "      <td>2</td>\n",
              "      <td>1</td>\n",
              "      <td>1</td>\n",
              "      <td>0</td>\n",
              "      <td>0</td>\n",
              "      <td>0</td>\n",
              "    </tr>\n",
              "    <tr>\n",
              "      <th>2</th>\n",
              "      <td>C</td>\n",
              "      <td>S</td>\n",
              "      <td>O</td>\n",
              "      <td>1</td>\n",
              "      <td>3</td>\n",
              "      <td>1</td>\n",
              "      <td>1</td>\n",
              "      <td>2</td>\n",
              "      <td>1</td>\n",
              "      <td>1</td>\n",
              "      <td>0</td>\n",
              "      <td>0</td>\n",
              "      <td>0</td>\n",
              "    </tr>\n",
              "    <tr>\n",
              "      <th>3</th>\n",
              "      <td>H</td>\n",
              "      <td>R</td>\n",
              "      <td>X</td>\n",
              "      <td>1</td>\n",
              "      <td>2</td>\n",
              "      <td>1</td>\n",
              "      <td>1</td>\n",
              "      <td>1</td>\n",
              "      <td>1</td>\n",
              "      <td>1</td>\n",
              "      <td>0</td>\n",
              "      <td>0</td>\n",
              "      <td>0</td>\n",
              "    </tr>\n",
              "    <tr>\n",
              "      <th>4</th>\n",
              "      <td>H</td>\n",
              "      <td>S</td>\n",
              "      <td>X</td>\n",
              "      <td>1</td>\n",
              "      <td>1</td>\n",
              "      <td>1</td>\n",
              "      <td>1</td>\n",
              "      <td>2</td>\n",
              "      <td>1</td>\n",
              "      <td>1</td>\n",
              "      <td>0</td>\n",
              "      <td>0</td>\n",
              "      <td>0</td>\n",
              "    </tr>\n",
              "    <tr>\n",
              "      <th>...</th>\n",
              "      <td>...</td>\n",
              "      <td>...</td>\n",
              "      <td>...</td>\n",
              "      <td>...</td>\n",
              "      <td>...</td>\n",
              "      <td>...</td>\n",
              "      <td>...</td>\n",
              "      <td>...</td>\n",
              "      <td>...</td>\n",
              "      <td>...</td>\n",
              "      <td>...</td>\n",
              "      <td>...</td>\n",
              "      <td>...</td>\n",
              "    </tr>\n",
              "    <tr>\n",
              "      <th>1061</th>\n",
              "      <td>H</td>\n",
              "      <td>S</td>\n",
              "      <td>X</td>\n",
              "      <td>1</td>\n",
              "      <td>2</td>\n",
              "      <td>1</td>\n",
              "      <td>1</td>\n",
              "      <td>1</td>\n",
              "      <td>1</td>\n",
              "      <td>1</td>\n",
              "      <td>0</td>\n",
              "      <td>0</td>\n",
              "      <td>0</td>\n",
              "    </tr>\n",
              "    <tr>\n",
              "      <th>1062</th>\n",
              "      <td>H</td>\n",
              "      <td>S</td>\n",
              "      <td>X</td>\n",
              "      <td>2</td>\n",
              "      <td>2</td>\n",
              "      <td>1</td>\n",
              "      <td>1</td>\n",
              "      <td>2</td>\n",
              "      <td>1</td>\n",
              "      <td>1</td>\n",
              "      <td>0</td>\n",
              "      <td>0</td>\n",
              "      <td>0</td>\n",
              "    </tr>\n",
              "    <tr>\n",
              "      <th>1063</th>\n",
              "      <td>C</td>\n",
              "      <td>S</td>\n",
              "      <td>O</td>\n",
              "      <td>1</td>\n",
              "      <td>2</td>\n",
              "      <td>1</td>\n",
              "      <td>2</td>\n",
              "      <td>2</td>\n",
              "      <td>1</td>\n",
              "      <td>1</td>\n",
              "      <td>0</td>\n",
              "      <td>0</td>\n",
              "      <td>0</td>\n",
              "    </tr>\n",
              "    <tr>\n",
              "      <th>1064</th>\n",
              "      <td>H</td>\n",
              "      <td>R</td>\n",
              "      <td>X</td>\n",
              "      <td>1</td>\n",
              "      <td>2</td>\n",
              "      <td>1</td>\n",
              "      <td>1</td>\n",
              "      <td>2</td>\n",
              "      <td>1</td>\n",
              "      <td>1</td>\n",
              "      <td>0</td>\n",
              "      <td>0</td>\n",
              "      <td>0</td>\n",
              "    </tr>\n",
              "    <tr>\n",
              "      <th>1065</th>\n",
              "      <td>B</td>\n",
              "      <td>X</td>\n",
              "      <td>O</td>\n",
              "      <td>1</td>\n",
              "      <td>1</td>\n",
              "      <td>1</td>\n",
              "      <td>1</td>\n",
              "      <td>2</td>\n",
              "      <td>1</td>\n",
              "      <td>1</td>\n",
              "      <td>0</td>\n",
              "      <td>0</td>\n",
              "      <td>0</td>\n",
              "    </tr>\n",
              "  </tbody>\n",
              "</table>\n",
              "<p>1066 rows × 13 columns</p>\n",
              "</div>"
            ],
            "text/plain": [
              "     Unnamed: 0 Unnamed: 1 Unnamed: 2  ...  Unnamed: 10  Unnamed: 11  Unnamed: 12\n",
              "0             H          A          X  ...            0            0            0\n",
              "1             D          R          O  ...            0            0            0\n",
              "2             C          S          O  ...            0            0            0\n",
              "3             H          R          X  ...            0            0            0\n",
              "4             H          S          X  ...            0            0            0\n",
              "...         ...        ...        ...  ...          ...          ...          ...\n",
              "1061          H          S          X  ...            0            0            0\n",
              "1062          H          S          X  ...            0            0            0\n",
              "1063          C          S          O  ...            0            0            0\n",
              "1064          H          R          X  ...            0            0            0\n",
              "1065          B          X          O  ...            0            0            0\n",
              "\n",
              "[1066 rows x 13 columns]"
            ]
          },
          "metadata": {
            "tags": []
          },
          "execution_count": 147
        }
      ]
    },
    {
      "cell_type": "code",
      "metadata": {
        "colab": {
          "base_uri": "https://localhost:8080/"
        },
        "id": "4xvBzZv0GXaE",
        "outputId": "c28f9b4d-01de-4be1-9a2f-666972054e7c"
      },
      "source": [
        "#feature vector dimension\r\n",
        "df5.iloc[:,3:].shape"
      ],
      "execution_count": 155,
      "outputs": [
        {
          "output_type": "execute_result",
          "data": {
            "text/plain": [
              "(1066, 10)"
            ]
          },
          "metadata": {
            "tags": []
          },
          "execution_count": 155
        }
      ]
    },
    {
      "cell_type": "code",
      "metadata": {
        "id": "CHyG-2ieeHXX",
        "colab": {
          "base_uri": "https://localhost:8080/"
        },
        "outputId": "12457934-973a-4c48-9dd8-c4fdc1fcfb4b"
      },
      "source": [
        "#class Attribute 1 \r\n",
        "print(np.unique(df5.iloc[:,:1]))\r\n",
        "\r\n",
        "#class Attribute 2 \r\n",
        "print(np.unique(df5.iloc[:,1:2]))\r\n",
        "\r\n",
        "#class Attribute 3 \r\n",
        "print(np.unique(df5.iloc[:,2:3]))"
      ],
      "execution_count": 151,
      "outputs": [
        {
          "output_type": "stream",
          "text": [
            "['B' 'C' 'D' 'E' 'F' 'H']\n",
            "['A' 'H' 'K' 'R' 'S' 'X']\n",
            "['C' 'I' 'O' 'X']\n"
          ],
          "name": "stdout"
        }
      ]
    },
    {
      "cell_type": "code",
      "metadata": {
        "id": "yhJzcE9SeH2V",
        "colab": {
          "base_uri": "https://localhost:8080/"
        },
        "outputId": "e86ad32a-1a8b-436c-a8e6-3ec968463ca2"
      },
      "source": [
        "#class frequency in respective class attributes\r\n",
        "print(df5.iloc[:,:1].value_counts())\r\n",
        "\r\n",
        "print(df5.iloc[:,1:2].value_counts())\r\n",
        "\r\n",
        "print(df5.iloc[:,2:3].value_counts())"
      ],
      "execution_count": 153,
      "outputs": [
        {
          "output_type": "stream",
          "text": [
            "Unnamed: 0\n",
            "H             331\n",
            "D             239\n",
            "C             211\n",
            "B             147\n",
            "E              95\n",
            "F              43\n",
            "dtype: int64\n",
            "Unnamed: 1\n",
            "S             414\n",
            "R             218\n",
            "A             216\n",
            "X             145\n",
            "K              46\n",
            "H              27\n",
            "dtype: int64\n",
            "Unnamed: 2\n",
            "O             477\n",
            "X             331\n",
            "I             223\n",
            "C              35\n",
            "dtype: int64\n"
          ],
          "name": "stdout"
        }
      ]
    },
    {
      "cell_type": "code",
      "metadata": {
        "id": "2ben1NZGkXdC",
        "colab": {
          "base_uri": "https://localhost:8080/"
        },
        "outputId": "09abf02a-464d-4bc7-cb47-2caecb542c89"
      },
      "source": [
        "#probability of classes\r\n",
        "\r\n",
        "print(df5.iloc[:,:1].value_counts()/1066)\r\n",
        "\r\n",
        "print(df5.iloc[:,1:2].value_counts()/1066)\r\n",
        "\r\n",
        "print(df5.iloc[:,2:3].value_counts()/1066)"
      ],
      "execution_count": 156,
      "outputs": [
        {
          "output_type": "stream",
          "text": [
            "Unnamed: 0\n",
            "H             0.310507\n",
            "D             0.224203\n",
            "C             0.197936\n",
            "B             0.137899\n",
            "E             0.089118\n",
            "F             0.040338\n",
            "dtype: float64\n",
            "Unnamed: 1\n",
            "S             0.388368\n",
            "R             0.204503\n",
            "A             0.202627\n",
            "X             0.136023\n",
            "K             0.043152\n",
            "H             0.025328\n",
            "dtype: float64\n",
            "Unnamed: 2\n",
            "O             0.447467\n",
            "X             0.310507\n",
            "I             0.209193\n",
            "C             0.032833\n",
            "dtype: float64\n"
          ],
          "name": "stdout"
        }
      ]
    },
    {
      "cell_type": "code",
      "metadata": {
        "colab": {
          "base_uri": "https://localhost:8080/"
        },
        "id": "tv4PwzGaHrt2",
        "outputId": "5f861ad3-978e-4d5c-d929-ca1e77a9fb95"
      },
      "source": [
        "print(df5.mean(axis = 0).shape)\r\n",
        "df5.cov().shape"
      ],
      "execution_count": 157,
      "outputs": [
        {
          "output_type": "stream",
          "text": [
            "(10,)\n"
          ],
          "name": "stdout"
        },
        {
          "output_type": "execute_result",
          "data": {
            "text/plain": [
              "(10, 10)"
            ]
          },
          "metadata": {
            "tags": []
          },
          "execution_count": 157
        }
      ]
    },
    {
      "cell_type": "markdown",
      "metadata": {
        "id": "x-EMT71Ud_J5"
      },
      "source": [
        "# Spect heart dataset"
      ]
    },
    {
      "cell_type": "code",
      "metadata": {
        "id": "_Dbu7f1HcvSi"
      },
      "source": [
        "df6 = pd.read_excel('/content/drive/MyDrive/PA_1/SPECT Heart Dataset 7/spectTrain.xlsx')"
      ],
      "execution_count": 132,
      "outputs": []
    },
    {
      "cell_type": "code",
      "metadata": {
        "colab": {
          "base_uri": "https://localhost:8080/"
        },
        "id": "-FevUR4aeaC1",
        "outputId": "d79d36fb-4041-4d57-c602-6d23c52e512d"
      },
      "source": [
        "df6.shape"
      ],
      "execution_count": 133,
      "outputs": [
        {
          "output_type": "execute_result",
          "data": {
            "text/plain": [
              "(80, 45)"
            ]
          },
          "metadata": {
            "tags": []
          },
          "execution_count": 133
        }
      ]
    },
    {
      "cell_type": "code",
      "metadata": {
        "colab": {
          "base_uri": "https://localhost:8080/"
        },
        "id": "ny_VwR7reb0w",
        "outputId": "d8875059-37c6-4515-bf5b-0a7e7e645428"
      },
      "source": [
        "df6.head"
      ],
      "execution_count": 134,
      "outputs": [
        {
          "output_type": "execute_result",
          "data": {
            "text/plain": [
              "<bound method NDFrame.head of     Unnamed: 0  Unnamed: 1  Unnamed: 2  ...  Unnamed: 42  Unnamed: 43  Unnamed: 44\n",
              "0            1          59          52  ...           74           64           67\n",
              "1            1          72          62  ...           71           56           58\n",
              "2            1          71          62  ...           41           51           46\n",
              "3            1          69          71  ...           68           59           63\n",
              "4            1          70          66  ...           55           49           41\n",
              "..         ...         ...         ...  ...          ...          ...          ...\n",
              "75           0          70          75  ...           67           56           54\n",
              "76           0          59          57  ...           63           56           56\n",
              "77           0          67          64  ...           80           67           68\n",
              "78           0          68          65  ...           56           58           44\n",
              "79           0          66          54  ...           68           59           59\n",
              "\n",
              "[80 rows x 45 columns]>"
            ]
          },
          "metadata": {
            "tags": []
          },
          "execution_count": 134
        }
      ]
    },
    {
      "cell_type": "code",
      "metadata": {
        "colab": {
          "base_uri": "https://localhost:8080/"
        },
        "id": "jA8DtaWHepHO",
        "outputId": "caf9ef90-eebe-4506-feb5-7f055aabc23c"
      },
      "source": [
        "#no of classes\r\n",
        "np.unique(df6.iloc[:,:1])"
      ],
      "execution_count": 135,
      "outputs": [
        {
          "output_type": "execute_result",
          "data": {
            "text/plain": [
              "array([0, 1])"
            ]
          },
          "metadata": {
            "tags": []
          },
          "execution_count": 135
        }
      ]
    },
    {
      "cell_type": "code",
      "metadata": {
        "colab": {
          "base_uri": "https://localhost:8080/"
        },
        "id": "mS1Y-K0se1JZ",
        "outputId": "312f6056-a034-47c2-957d-feb6e7857a39"
      },
      "source": [
        "df6.iloc[:,0:1].value_counts()"
      ],
      "execution_count": 136,
      "outputs": [
        {
          "output_type": "execute_result",
          "data": {
            "text/plain": [
              "Unnamed: 0\n",
              "1             40\n",
              "0             40\n",
              "dtype: int64"
            ]
          },
          "metadata": {
            "tags": []
          },
          "execution_count": 136
        }
      ]
    },
    {
      "cell_type": "code",
      "metadata": {
        "colab": {
          "base_uri": "https://localhost:8080/"
        },
        "id": "G8izzPSDe88w",
        "outputId": "161ad49d-efd5-4a18-8555-10b3d29dba34"
      },
      "source": [
        "prior_prob(40,80)\r\n",
        "#same priors"
      ],
      "execution_count": 137,
      "outputs": [
        {
          "output_type": "execute_result",
          "data": {
            "text/plain": [
              "0.5"
            ]
          },
          "metadata": {
            "tags": []
          },
          "execution_count": 137
        }
      ]
    },
    {
      "cell_type": "code",
      "metadata": {
        "colab": {
          "base_uri": "https://localhost:8080/"
        },
        "id": "uU79lWrYfPNn",
        "outputId": "80e644e2-4d07-4342-d6b0-e7ac2e352b79"
      },
      "source": [
        "df6 = df6.iloc[:,1:]\r\n",
        "print(df6.mean(axis = 0).shape)\r\n",
        "df6.cov().shape"
      ],
      "execution_count": 158,
      "outputs": [
        {
          "output_type": "stream",
          "text": [
            "(44,)\n"
          ],
          "name": "stdout"
        },
        {
          "output_type": "execute_result",
          "data": {
            "text/plain": [
              "(44, 44)"
            ]
          },
          "metadata": {
            "tags": []
          },
          "execution_count": 158
        }
      ]
    },
    {
      "cell_type": "markdown",
      "metadata": {
        "id": "hMQ-P32gffYX"
      },
      "source": [
        "# Wisconsin Breast Cancer Dataset"
      ]
    },
    {
      "cell_type": "code",
      "metadata": {
        "id": "YPJo78zDfWg-"
      },
      "source": [
        "df7 = pd.read_excel('/content/drive/MyDrive/PA_1/Wisconsin Breast Cancer Dataset 8/WDBC.xlsx')"
      ],
      "execution_count": 139,
      "outputs": []
    },
    {
      "cell_type": "code",
      "metadata": {
        "colab": {
          "base_uri": "https://localhost:8080/"
        },
        "id": "5c0yuc--geIQ",
        "outputId": "f1e6e2e4-47bb-4aab-f60d-6f0be12f2562"
      },
      "source": [
        "df7.shape"
      ],
      "execution_count": 140,
      "outputs": [
        {
          "output_type": "execute_result",
          "data": {
            "text/plain": [
              "(569, 31)"
            ]
          },
          "metadata": {
            "tags": []
          },
          "execution_count": 140
        }
      ]
    },
    {
      "cell_type": "code",
      "metadata": {
        "colab": {
          "base_uri": "https://localhost:8080/"
        },
        "id": "mpDi4CkBg08W",
        "outputId": "3b7a1c49-6696-4898-d1d5-183eaf864ff8"
      },
      "source": [
        "df7.head"
      ],
      "execution_count": 141,
      "outputs": [
        {
          "output_type": "execute_result",
          "data": {
            "text/plain": [
              "<bound method NDFrame.head of     Unnamed: 0  Unnamed: 1  Unnamed: 2  ...  Unnamed: 28  Unnamed: 29  Unnamed: 30\n",
              "0            M       17.99       10.38  ...       0.2654       0.4601      0.11890\n",
              "1            M       20.57       17.77  ...       0.1860       0.2750      0.08902\n",
              "2            M       19.69       21.25  ...       0.2430       0.3613      0.08758\n",
              "3            M       11.42       20.38  ...       0.2575       0.6638      0.17300\n",
              "4            M       20.29       14.34  ...       0.1625       0.2364      0.07678\n",
              "..         ...         ...         ...  ...          ...          ...          ...\n",
              "564          M       21.56       22.39  ...       0.2216       0.2060      0.07115\n",
              "565          M       20.13       28.25  ...       0.1628       0.2572      0.06637\n",
              "566          M       16.60       28.08  ...       0.1418       0.2218      0.07820\n",
              "567          M       20.60       29.33  ...       0.2650       0.4087      0.12400\n",
              "568          B        7.76       24.54  ...       0.0000       0.2871      0.07039\n",
              "\n",
              "[569 rows x 31 columns]>"
            ]
          },
          "metadata": {
            "tags": []
          },
          "execution_count": 141
        }
      ]
    },
    {
      "cell_type": "code",
      "metadata": {
        "colab": {
          "base_uri": "https://localhost:8080/"
        },
        "id": "eX5125x5g8Rc",
        "outputId": "dc396ca7-555a-4365-9814-9e09eafcf72a"
      },
      "source": [
        "#no of classes\r\n",
        "np.unique(df7.iloc[:,:1])"
      ],
      "execution_count": 142,
      "outputs": [
        {
          "output_type": "execute_result",
          "data": {
            "text/plain": [
              "array(['B', 'M'], dtype=object)"
            ]
          },
          "metadata": {
            "tags": []
          },
          "execution_count": 142
        }
      ]
    },
    {
      "cell_type": "code",
      "metadata": {
        "colab": {
          "base_uri": "https://localhost:8080/"
        },
        "id": "Zfpcq49EhWTQ",
        "outputId": "24fc805c-5b5d-4d83-c888-80c24796fc6f"
      },
      "source": [
        "df7.iloc[:,0:1].value_counts()"
      ],
      "execution_count": 143,
      "outputs": [
        {
          "output_type": "execute_result",
          "data": {
            "text/plain": [
              "Unnamed: 0\n",
              "B             357\n",
              "M             212\n",
              "dtype: int64"
            ]
          },
          "metadata": {
            "tags": []
          },
          "execution_count": 143
        }
      ]
    },
    {
      "cell_type": "code",
      "metadata": {
        "colab": {
          "base_uri": "https://localhost:8080/"
        },
        "id": "0Qe6_iTKjvWP",
        "outputId": "3752a872-d9d2-47fa-d8a6-0648d18de8f9"
      },
      "source": [
        "#for M\r\n",
        "print(prior_prob(357,569))\r\n",
        "#for B\r\n",
        "print(1-prior_prob(357,569))"
      ],
      "execution_count": 144,
      "outputs": [
        {
          "output_type": "stream",
          "text": [
            "0.6274165202108963\n",
            "0.37258347978910367\n"
          ],
          "name": "stdout"
        }
      ]
    },
    {
      "cell_type": "code",
      "metadata": {
        "colab": {
          "base_uri": "https://localhost:8080/"
        },
        "id": "6XEv1KGYkA6Q",
        "outputId": "4e584c1f-cd8e-4126-8ec5-7d9cb7c78301"
      },
      "source": [
        "print(df7.mean(axis = 0).shape)\r\n",
        "df7.cov().shape"
      ],
      "execution_count": 145,
      "outputs": [
        {
          "output_type": "stream",
          "text": [
            "(30,)\n"
          ],
          "name": "stdout"
        },
        {
          "output_type": "execute_result",
          "data": {
            "text/plain": [
              "(30, 30)"
            ]
          },
          "metadata": {
            "tags": []
          },
          "execution_count": 145
        }
      ]
    }
  ]
}