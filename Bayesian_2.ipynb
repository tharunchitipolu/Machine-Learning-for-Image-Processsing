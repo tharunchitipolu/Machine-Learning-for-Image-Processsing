{
  "nbformat": 4,
  "nbformat_minor": 0,
  "metadata": {
    "colab": {
      "name": "Bayesian_2.ipynb",
      "provenance": []
    },
    "kernelspec": {
      "name": "python3",
      "display_name": "Python 3"
    }
  },
  "cells": [
    {
      "cell_type": "code",
      "metadata": {
        "colab": {
          "base_uri": "https://localhost:8080/"
        },
        "id": "sVc2mEtc5JhQ",
        "outputId": "adb82abb-b80d-4edb-98b3-babda0645587"
      },
      "source": [
        "import pandas as pd\r\n",
        "import matplotlib.pyplot as plt\r\n",
        "import numpy as np\r\n",
        "from google.colab import drive\r\n",
        "drive.mount('/content/drive')"
      ],
      "execution_count": 27,
      "outputs": [
        {
          "output_type": "stream",
          "text": [
            "Drive already mounted at /content/drive; to attempt to forcibly remount, call drive.mount(\"/content/drive\", force_remount=True).\n"
          ],
          "name": "stdout"
        }
      ]
    },
    {
      "cell_type": "markdown",
      "metadata": {
        "id": "sdmC_VoNyGhF"
      },
      "source": [
        "# Bayesian Q2"
      ]
    },
    {
      "cell_type": "markdown",
      "metadata": {
        "id": "t2csYBmCCdLY"
      },
      "source": [
        "# considered Iris dataset"
      ]
    },
    {
      "cell_type": "code",
      "metadata": {
        "id": "L9sUTQGj5xKd"
      },
      "source": [
        "df = pd.read_excel('/content/drive/MyDrive/PA_1/Iris Dataset 3/irisdata.xlsx', header=None, names=['Sepal length', 'Sepal width', 'Petal length', 'Petal width', 'Class'])"
      ],
      "execution_count": 28,
      "outputs": []
    },
    {
      "cell_type": "code",
      "metadata": {
        "colab": {
          "base_uri": "https://localhost:8080/",
          "height": 402
        },
        "id": "A6G0GAz9LnnZ",
        "outputId": "42e54eea-1a7d-4096-9268-94a860810f32"
      },
      "source": [
        "df"
      ],
      "execution_count": 29,
      "outputs": [
        {
          "output_type": "execute_result",
          "data": {
            "text/html": [
              "<div>\n",
              "<style scoped>\n",
              "    .dataframe tbody tr th:only-of-type {\n",
              "        vertical-align: middle;\n",
              "    }\n",
              "\n",
              "    .dataframe tbody tr th {\n",
              "        vertical-align: top;\n",
              "    }\n",
              "\n",
              "    .dataframe thead th {\n",
              "        text-align: right;\n",
              "    }\n",
              "</style>\n",
              "<table border=\"1\" class=\"dataframe\">\n",
              "  <thead>\n",
              "    <tr style=\"text-align: right;\">\n",
              "      <th></th>\n",
              "      <th>Sepal length</th>\n",
              "      <th>Sepal width</th>\n",
              "      <th>Petal length</th>\n",
              "      <th>Petal width</th>\n",
              "      <th>Class</th>\n",
              "    </tr>\n",
              "  </thead>\n",
              "  <tbody>\n",
              "    <tr>\n",
              "      <th>0</th>\n",
              "      <td>5.1</td>\n",
              "      <td>3.5</td>\n",
              "      <td>1.4</td>\n",
              "      <td>0.2</td>\n",
              "      <td>Iris-setosa</td>\n",
              "    </tr>\n",
              "    <tr>\n",
              "      <th>1</th>\n",
              "      <td>4.9</td>\n",
              "      <td>3.0</td>\n",
              "      <td>1.4</td>\n",
              "      <td>0.2</td>\n",
              "      <td>Iris-setosa</td>\n",
              "    </tr>\n",
              "    <tr>\n",
              "      <th>2</th>\n",
              "      <td>4.7</td>\n",
              "      <td>3.2</td>\n",
              "      <td>1.3</td>\n",
              "      <td>0.2</td>\n",
              "      <td>Iris-setosa</td>\n",
              "    </tr>\n",
              "    <tr>\n",
              "      <th>3</th>\n",
              "      <td>4.6</td>\n",
              "      <td>3.1</td>\n",
              "      <td>1.5</td>\n",
              "      <td>0.2</td>\n",
              "      <td>Iris-setosa</td>\n",
              "    </tr>\n",
              "    <tr>\n",
              "      <th>4</th>\n",
              "      <td>5.0</td>\n",
              "      <td>3.6</td>\n",
              "      <td>1.4</td>\n",
              "      <td>0.2</td>\n",
              "      <td>Iris-setosa</td>\n",
              "    </tr>\n",
              "    <tr>\n",
              "      <th>...</th>\n",
              "      <td>...</td>\n",
              "      <td>...</td>\n",
              "      <td>...</td>\n",
              "      <td>...</td>\n",
              "      <td>...</td>\n",
              "    </tr>\n",
              "    <tr>\n",
              "      <th>145</th>\n",
              "      <td>6.7</td>\n",
              "      <td>3.0</td>\n",
              "      <td>5.2</td>\n",
              "      <td>2.3</td>\n",
              "      <td>Iris-virginica</td>\n",
              "    </tr>\n",
              "    <tr>\n",
              "      <th>146</th>\n",
              "      <td>6.3</td>\n",
              "      <td>2.5</td>\n",
              "      <td>5.0</td>\n",
              "      <td>1.9</td>\n",
              "      <td>Iris-virginica</td>\n",
              "    </tr>\n",
              "    <tr>\n",
              "      <th>147</th>\n",
              "      <td>6.5</td>\n",
              "      <td>3.0</td>\n",
              "      <td>5.2</td>\n",
              "      <td>2.0</td>\n",
              "      <td>Iris-virginica</td>\n",
              "    </tr>\n",
              "    <tr>\n",
              "      <th>148</th>\n",
              "      <td>6.2</td>\n",
              "      <td>3.4</td>\n",
              "      <td>5.4</td>\n",
              "      <td>2.3</td>\n",
              "      <td>Iris-virginica</td>\n",
              "    </tr>\n",
              "    <tr>\n",
              "      <th>149</th>\n",
              "      <td>5.9</td>\n",
              "      <td>3.0</td>\n",
              "      <td>5.1</td>\n",
              "      <td>1.8</td>\n",
              "      <td>Iris-virginica</td>\n",
              "    </tr>\n",
              "  </tbody>\n",
              "</table>\n",
              "<p>150 rows × 5 columns</p>\n",
              "</div>"
            ],
            "text/plain": [
              "     Sepal length  Sepal width  Petal length  Petal width           Class\n",
              "0             5.1          3.5           1.4          0.2     Iris-setosa\n",
              "1             4.9          3.0           1.4          0.2     Iris-setosa\n",
              "2             4.7          3.2           1.3          0.2     Iris-setosa\n",
              "3             4.6          3.1           1.5          0.2     Iris-setosa\n",
              "4             5.0          3.6           1.4          0.2     Iris-setosa\n",
              "..            ...          ...           ...          ...             ...\n",
              "145           6.7          3.0           5.2          2.3  Iris-virginica\n",
              "146           6.3          2.5           5.0          1.9  Iris-virginica\n",
              "147           6.5          3.0           5.2          2.0  Iris-virginica\n",
              "148           6.2          3.4           5.4          2.3  Iris-virginica\n",
              "149           5.9          3.0           5.1          1.8  Iris-virginica\n",
              "\n",
              "[150 rows x 5 columns]"
            ]
          },
          "metadata": {
            "tags": []
          },
          "execution_count": 29
        }
      ]
    },
    {
      "cell_type": "markdown",
      "metadata": {
        "id": "_p3M5snqyMhO"
      },
      "source": [
        "Appending features into their respective list to make histogram"
      ]
    },
    {
      "cell_type": "code",
      "metadata": {
        "colab": {
          "base_uri": "https://localhost:8080/",
          "height": 265
        },
        "id": "jnYOnpoWNNwY",
        "outputId": "f5a808e5-8d1e-4773-d4e8-bd24864e603e"
      },
      "source": [
        "sepal_length = []\r\n",
        "sepal_width = []\r\n",
        "petal_width = []\r\n",
        "\r\n",
        "for i in range(50):\r\n",
        "    sepal_length.append(df['Sepal length'][i])\r\n",
        "\r\n",
        "plt.hist(sepal_length, edgecolor='red')\r\n",
        "plt.show()"
      ],
      "execution_count": 30,
      "outputs": [
        {
          "output_type": "display_data",
          "data": {
            "image/png": "[encoded data removed]",
            "text/plain": [
              "<Figure size 432x288 with 1 Axes>"
            ]
          },
          "metadata": {
            "tags": [],
            "needs_background": "light"
          }
        }
      ]
    },
    {
      "cell_type": "code",
      "metadata": {
        "colab": {
          "base_uri": "https://localhost:8080/",
          "height": 265
        },
        "id": "oNcCzxmCNadK",
        "outputId": "0dfb4ed1-28d8-4df9-892c-a711e8c860e3"
      },
      "source": [
        "for i in range(100, 150):\r\n",
        "    sepal_width.append(df['Sepal width'][i])\r\n",
        "\r\n",
        "plt.hist(sepal_width, edgecolor='red')\r\n",
        "plt.show()"
      ],
      "execution_count": 31,
      "outputs": [
        {
          "output_type": "display_data",
          "data": {
            "image/png": "[encoded data removed]",
            "text/plain": [
              "<Figure size 432x288 with 1 Axes>"
            ]
          },
          "metadata": {
            "tags": [],
            "needs_background": "light"
          }
        }
      ]
    },
    {
      "cell_type": "code",
      "metadata": {
        "colab": {
          "base_uri": "https://localhost:8080/",
          "height": 265
        },
        "id": "G1ljX7igNo83",
        "outputId": "4527debe-650d-4790-d6e4-63e1f870ccb4"
      },
      "source": [
        "for i in range(50, 100):\r\n",
        "    petal_width.append(df['Petal width'][i])\r\n",
        "\r\n",
        "plt.hist(petal_width, edgecolor='red')\r\n",
        "plt.show()"
      ],
      "execution_count": 32,
      "outputs": [
        {
          "output_type": "display_data",
          "data": {
            "image/png": "[encoded data removed]",
            "text/plain": [
              "<Figure size 432x288 with 1 Axes>"
            ]
          },
          "metadata": {
            "tags": [],
            "needs_background": "light"
          }
        }
      ]
    },
    {
      "cell_type": "markdown",
      "metadata": {
        "id": "HDg8KqlfDhAI"
      },
      "source": [
        "# Splitting training and testing data"
      ]
    },
    {
      "cell_type": "code",
      "metadata": {
        "id": "QRKiwnjFNtbf"
      },
      "source": [
        "class1_train = df.iloc[:35]\r\n",
        "class2_train = df.iloc[50:85]\r\n",
        "class3_train = df.iloc[100:135]\r\n",
        "\r\n",
        "class1_test = df.iloc[35:50]\r\n",
        "class2_test = df.iloc[85:100]\r\n",
        "class3_test = df.iloc[135:150]"
      ],
      "execution_count": 33,
      "outputs": []
    },
    {
      "cell_type": "code",
      "metadata": {
        "id": "Fyh7jeGAPW5M"
      },
      "source": [
        "def mean(feature, given_class):\r\n",
        "    return (sum(given_class[feature].values))/(len(given_class[feature].values))\r\n",
        "\r\n",
        "def std(feature, given_class):\r\n",
        "    avg = mean(feature, given_class)\r\n",
        "    variance = sum([(x-avg)**2 for x in given_class[feature].values]) / float(len(given_class[feature].values)-1)\r\n",
        "    return sqrt(variance)\r\n",
        "\r\n",
        "\r\n",
        "def likelihood(x, mean, stdev):\r\n",
        "    exponent = exp(-((x-mean)**2/(2*stdev**2)))   \r\n",
        "    return exponent/(stdev*sqrt(2*np.pi))"
      ],
      "execution_count": 34,
      "outputs": []
    },
    {
      "cell_type": "code",
      "metadata": {
        "id": "CEmtk6QGwJ2u"
      },
      "source": [
        "def classify(x1, feature_name, class1_train, class2_train, class3_train):\r\n",
        "\r\n",
        "    l11 = likelihood(x1, mean(feature_name, class1_train), std(feature_name, class1_train))\r\n",
        "    l21 = likelihood(x1, mean(feature_name, class2_train), std(feature_name, class2_train))\r\n",
        "    l31 = likelihood(x1, mean(feature_name, class3_train), std(feature_name, class3_train))\r\n",
        "\r\n",
        "    p1 = l11*(1/3)\r\n",
        "    p2 = l21*(1/3)\r\n",
        "    p3 = l31*(1/3)\r\n",
        "\r\n",
        "    if p1 > p2 and p1 > p3: \r\n",
        "        return 'Iris-setosa'\r\n",
        "\r\n",
        "    elif p2 > p1 and p2 > p3: \r\n",
        "        return 'Iris-versicolor'\r\n",
        "\r\n",
        "    elif p3 > p1 and p3 > p2: \r\n",
        "        return 'Iris-virginica'"
      ],
      "execution_count": 35,
      "outputs": []
    },
    {
      "cell_type": "markdown",
      "metadata": {
        "id": "9XQpTn3VDpdf"
      },
      "source": [
        "# Accuracy prediction"
      ]
    },
    {
      "cell_type": "code",
      "metadata": {
        "colab": {
          "base_uri": "https://localhost:8080/"
        },
        "id": "crGzTQuuwQm7",
        "outputId": "a7fb7d9b-8a1b-4f40-d1ea-e394dc948534"
      },
      "source": [
        "from math import sqrt, exp, pi\r\n",
        "count1, count2, count3, count4 = 0, 0, 0, 0\r\n",
        "\r\n",
        "for i in range(15):\r\n",
        "    x1 = classify(class1_test['Sepal length'].values[i], 'Sepal length', class1_train, class2_train, class3_train)\r\n",
        "    x2 = classify(class2_test['Sepal width'].values[i], 'Sepal width', class1_train, class2_train, class3_train)\r\n",
        "    x3 = classify(class3_test['Petal length'].values[i], 'Petal length', class1_train, class2_train, class3_train)\r\n",
        "    \r\n",
        "    if x1 == 'Iris-setosa':\r\n",
        "        count1 += 1\r\n",
        "    if x2 == 'Iris-versicolor':\r\n",
        "        count2 += 1\r\n",
        "    if x3 == 'Iris-virginica':\r\n",
        "        count3 += 1\r\n",
        "    \r\n",
        "    \r\n",
        "print(f'Accuracy of feature 1 \"Sepal length\" of class \"Iris-Setosa\"  = {100*count1/15}%')\r\n",
        "print(f'Accuracy of feature 2 \"Sepal width\" of class \"Iris-Versicolor\" = {100*count2/15}%')\r\n",
        "print(f'Accuracy of feature 3 \"Petal length\" of class \"Iris-Virginica\" = {100*count3/15}%')"
      ],
      "execution_count": 36,
      "outputs": [
        {
          "output_type": "stream",
          "text": [
            "Accuracy of feature 1 \"Sepal length\" of class \"Iris-Setosa\"  = 100.0%\n",
            "Accuracy of feature 2 \"Sepal width\" of class \"Iris-Versicolor\" = 66.66666666666667%\n",
            "Accuracy of feature 3 \"Petal length\" of class \"Iris-Virginica\" = 93.33333333333333%\n"
          ],
          "name": "stdout"
        }
      ]
    },
    {
      "cell_type": "markdown",
      "metadata": {
        "id": "IFNefPzEGCmw"
      },
      "source": [
        "# 2D histogram"
      ]
    },
    {
      "cell_type": "code",
      "metadata": {
        "colab": {
          "base_uri": "https://localhost:8080/",
          "height": 269
        },
        "id": "PfY8XpJwwfWa",
        "outputId": "0a2c80dc-57c3-44b8-d882-bd216a08311e"
      },
      "source": [
        "sepal_length_class1 = []\r\n",
        "petal_length_class1 = []\r\n",
        "\r\n",
        "for i in range(50):\r\n",
        "    sepal_length_class1.append(df['Sepal length'][i])\r\n",
        "    petal_length_class1.append(df['Petal length'][i])\r\n",
        "\r\n",
        "plt.hist2d(sepal_length_class1, petal_length_class1)\r\n",
        "plt.show()"
      ],
      "execution_count": 37,
      "outputs": [
        {
          "output_type": "display_data",
          "data": {
            "image/png": "[encoded data removed]",
            "text/plain": [
              "<Figure size 432x288 with 1 Axes>"
            ]
          },
          "metadata": {
            "tags": [],
            "needs_background": "light"
          }
        }
      ]
    },
    {
      "cell_type": "code",
      "metadata": {
        "colab": {
          "base_uri": "https://localhost:8080/",
          "height": 269
        },
        "id": "nxj3DtLOw2fH",
        "outputId": "8506e0ff-f628-4d09-cf4a-c58462c704e3"
      },
      "source": [
        "sepal_length_class2 = []\r\n",
        "sepal_width_class2 = []\r\n",
        "\r\n",
        "for i in range(50, 100):\r\n",
        "    sepal_length_class2.append(df['Sepal length'][i])\r\n",
        "    sepal_width_class2.append(df['Sepal width'][i])\r\n",
        "\r\n",
        "plt.hist2d(sepal_length_class2, sepal_width_class2)\r\n",
        "plt.show()"
      ],
      "execution_count": 38,
      "outputs": [
        {
          "output_type": "display_data",
          "data": {
            "image/png": "[encoded data removed]",
            "text/plain": [
              "<Figure size 432x288 with 1 Axes>"
            ]
          },
          "metadata": {
            "tags": [],
            "needs_background": "light"
          }
        }
      ]
    },
    {
      "cell_type": "code",
      "metadata": {
        "colab": {
          "base_uri": "https://localhost:8080/",
          "height": 269
        },
        "id": "KnUaPDY1xYCA",
        "outputId": "67a5c418-7aa3-486e-9a1c-33ff7201ba4a"
      },
      "source": [
        "petal_length_class3 = []\r\n",
        "petal_width_class3 = []\r\n",
        "\r\n",
        "for i in range(50, 100):\r\n",
        "    petal_length_class3.append(df['Petal length'][i])\r\n",
        "    petal_width_class3.append(df['Petal width'][i])\r\n",
        "\r\n",
        "plt.hist2d(petal_length_class3, petal_width_class3)\r\n",
        "plt.show()"
      ],
      "execution_count": 39,
      "outputs": [
        {
          "output_type": "display_data",
          "data": {
            "image/png": "[encoded data removed]",
            "text/plain": [
              "<Figure size 432x288 with 1 Axes>"
            ]
          },
          "metadata": {
            "tags": [],
            "needs_background": "light"
          }
        }
      ]
    }
  ]
}